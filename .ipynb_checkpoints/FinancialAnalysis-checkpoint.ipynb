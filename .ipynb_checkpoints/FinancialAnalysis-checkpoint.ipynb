{
 "cells": [
  {
   "cell_type": "markdown",
   "metadata": {
    "toc": true
   },
   "source": [
    "<h1>Table of Contents<span class=\"tocSkip\"></span></h1>\n",
    "<div class=\"toc\"><ul class=\"toc-item\"><li><span><a href=\"#Financial-Sentiment-Analysis\" data-toc-modified-id=\"Financial-Sentiment-Analysis-1\"><span class=\"toc-item-num\">1&nbsp;&nbsp;</span>Financial Sentiment Analysis</a></span></li><li><span><a href=\"#Collaboration-Plan\" data-toc-modified-id=\"Collaboration-Plan-2\"><span class=\"toc-item-num\">2&nbsp;&nbsp;</span>Collaboration Plan</a></span><ul class=\"toc-item\"><li><span><a href=\"#Technologies:\" data-toc-modified-id=\"Technologies:-2.1\"><span class=\"toc-item-num\">2.1&nbsp;&nbsp;</span>Technologies:</a></span></li><li><span><a href=\"#Setup-up-and-import-necessary-libraries\" data-toc-modified-id=\"Setup-up-and-import-necessary-libraries-2.2\"><span class=\"toc-item-num\">2.2&nbsp;&nbsp;</span>Setup up and import necessary libraries</a></span><ul class=\"toc-item\"><li><span><a href=\"#Machine-Learning-and-NLP-imports\" data-toc-modified-id=\"Machine-Learning-and-NLP-imports-2.2.1\"><span class=\"toc-item-num\">2.2.1&nbsp;&nbsp;</span>Machine Learning and NLP imports</a></span></li></ul></li></ul></li><li><span><a href=\"#Table-of-Contents\" data-toc-modified-id=\"Table-of-Contents-3\"><span class=\"toc-item-num\">3&nbsp;&nbsp;</span>Table of Contents</a></span><ul class=\"toc-item\"><li><ul class=\"toc-item\"><li><span><a href=\"#S1:-Apple-Tweet-Analysis\" data-toc-modified-id=\"S1:-Apple-Tweet-Analysis-3.0.1\"><span class=\"toc-item-num\">3.0.1&nbsp;&nbsp;</span>S1: Apple Tweet Analysis</a></span></li><li><span><a href=\"#S2:-Gauging-Airline-Sentiment\" data-toc-modified-id=\"S2:-Gauging-Airline-Sentiment-3.0.2\"><span class=\"toc-item-num\">3.0.2&nbsp;&nbsp;</span>S2: Gauging Airline Sentiment</a></span></li><li><span><a href=\"#S3:-Broad-Market-Sentiment-Analysis\" data-toc-modified-id=\"S3:-Broad-Market-Sentiment-Analysis-3.0.3\"><span class=\"toc-item-num\">3.0.3&nbsp;&nbsp;</span>S3: Broad Market Sentiment Analysis</a></span></li></ul></li></ul></li><li><span><a href=\"#Apple-Sentiment-Analysis\" data-toc-modified-id=\"Apple-Sentiment-Analysis-4\"><span class=\"toc-item-num\">4&nbsp;&nbsp;</span>Apple Sentiment Analysis</a></span><ul class=\"toc-item\"><li><span><a href=\"#Extracting-Apple-Data\" data-toc-modified-id=\"Extracting-Apple-Data-4.1\"><span class=\"toc-item-num\">4.1&nbsp;&nbsp;</span>Extracting Apple Data</a></span></li></ul></li><li><span><a href=\"#Natural-Language-Proccessing-(NLP)\" data-toc-modified-id=\"Natural-Language-Proccessing-(NLP)-5\"><span class=\"toc-item-num\">5&nbsp;&nbsp;</span>Natural Language Proccessing (NLP)</a></span><ul class=\"toc-item\"><li><span><a href=\"#Preprocessing-the-Training-and-Testing-Data\" data-toc-modified-id=\"Preprocessing-the-Training-and-Testing-Data-5.1\"><span class=\"toc-item-num\">5.1&nbsp;&nbsp;</span>Preprocessing the Training and Testing Data</a></span></li></ul></li><li><span><a href=\"#Text-Analysis-For-Training-Data\" data-toc-modified-id=\"Text-Analysis-For-Training-Data-6\"><span class=\"toc-item-num\">6&nbsp;&nbsp;</span>Text Analysis For Training Data</a></span></li><li><span><a href=\"#Testing-the-Accuracy\" data-toc-modified-id=\"Testing-the-Accuracy-7\"><span class=\"toc-item-num\">7&nbsp;&nbsp;</span>Testing the Accuracy</a></span><ul class=\"toc-item\"><li><span><a href=\"#ROCAUC-Curves\" data-toc-modified-id=\"ROCAUC-Curves-7.1\"><span class=\"toc-item-num\">7.1&nbsp;&nbsp;</span>ROCAUC Curves</a></span></li><li><span><a href=\"#Visualizing-the-Classification-Model-(F-Score)\" data-toc-modified-id=\"Visualizing-the-Classification-Model-(F-Score)-7.2\"><span class=\"toc-item-num\">7.2&nbsp;&nbsp;</span>Visualizing the Classification Model (F-Score)</a></span></li><li><span><a href=\"#Classification-Report\" data-toc-modified-id=\"Classification-Report-7.3\"><span class=\"toc-item-num\">7.3&nbsp;&nbsp;</span>Classification Report</a></span></li></ul></li><li><span><a href=\"#Predicting-Classification-of-Unseen-Data\" data-toc-modified-id=\"Predicting-Classification-of-Unseen-Data-8\"><span class=\"toc-item-num\">8&nbsp;&nbsp;</span>Predicting Classification of Unseen Data</a></span><ul class=\"toc-item\"><li><span><a href=\"#Text-Analysis-for-Predicted-Labels\" data-toc-modified-id=\"Text-Analysis-for-Predicted-Labels-8.1\"><span class=\"toc-item-num\">8.1&nbsp;&nbsp;</span>Text Analysis for Predicted Labels</a></span></li><li><span><a href=\"#Preliminary-Thoughts\" data-toc-modified-id=\"Preliminary-Thoughts-8.2\"><span class=\"toc-item-num\">8.2&nbsp;&nbsp;</span>Preliminary Thoughts</a></span></li></ul></li><li><span><a href=\"#Section-2:-Gauging-Airline-Sentiment-Using-NLP\" data-toc-modified-id=\"Section-2:-Gauging-Airline-Sentiment-Using-NLP-9\"><span class=\"toc-item-num\">9&nbsp;&nbsp;</span>Section 2: Gauging Airline Sentiment Using NLP</a></span><ul class=\"toc-item\"><li><span><a href=\"#Extracting-Airline-Data\" data-toc-modified-id=\"Extracting-Airline-Data-9.1\"><span class=\"toc-item-num\">9.1&nbsp;&nbsp;</span>Extracting Airline Data</a></span></li><li><span><a href=\"#Text-Analysis-of-Training-Set\" data-toc-modified-id=\"Text-Analysis-of-Training-Set-9.2\"><span class=\"toc-item-num\">9.2&nbsp;&nbsp;</span>Text Analysis of Training Set</a></span></li></ul></li><li><span><a href=\"#Testing-the-Accuracy\" data-toc-modified-id=\"Testing-the-Accuracy-10\"><span class=\"toc-item-num\">10&nbsp;&nbsp;</span>Testing the Accuracy</a></span><ul class=\"toc-item\"><li><span><a href=\"#ROCAUC-Curves\" data-toc-modified-id=\"ROCAUC-Curves-10.1\"><span class=\"toc-item-num\">10.1&nbsp;&nbsp;</span>ROCAUC Curves</a></span></li><li><span><a href=\"#Visualizing-the-Classification-Model-(F-Score)\" data-toc-modified-id=\"Visualizing-the-Classification-Model-(F-Score)-10.2\"><span class=\"toc-item-num\">10.2&nbsp;&nbsp;</span>Visualizing the Classification Model (F-Score)</a></span></li><li><span><a href=\"#Classification-Report\" data-toc-modified-id=\"Classification-Report-10.3\"><span class=\"toc-item-num\">10.3&nbsp;&nbsp;</span>Classification Report</a></span></li><li><span><a href=\"#Predicting-Unseen-Data\" data-toc-modified-id=\"Predicting-Unseen-Data-10.4\"><span class=\"toc-item-num\">10.4&nbsp;&nbsp;</span>Predicting Unseen Data</a></span></li><li><span><a href=\"#Language-Analysis\" data-toc-modified-id=\"Language-Analysis-10.5\"><span class=\"toc-item-num\">10.5&nbsp;&nbsp;</span>Language Analysis</a></span></li><li><span><a href=\"#Airline-Twitter-Sentiment-Vs.-Stock-Prices\" data-toc-modified-id=\"Airline-Twitter-Sentiment-Vs.-Stock-Prices-10.6\"><span class=\"toc-item-num\">10.6&nbsp;&nbsp;</span>Airline Twitter Sentiment Vs. Stock Prices</a></span></li><li><span><a href=\"#Calculating-Changes-in-Sentiment\" data-toc-modified-id=\"Calculating-Changes-in-Sentiment-10.7\"><span class=\"toc-item-num\">10.7&nbsp;&nbsp;</span>Calculating Changes in Sentiment</a></span></li><li><span><a href=\"#Results\" data-toc-modified-id=\"Results-10.8\"><span class=\"toc-item-num\">10.8&nbsp;&nbsp;</span>Results</a></span></li></ul></li><li><span><a href=\"#Section-3:-Broad-Market-Sentiment-Analysis\" data-toc-modified-id=\"Section-3:-Broad-Market-Sentiment-Analysis-11\"><span class=\"toc-item-num\">11&nbsp;&nbsp;</span>Section 3: Broad Market Sentiment Analysis</a></span><ul class=\"toc-item\"><li><span><a href=\"#Extracting-Data\" data-toc-modified-id=\"Extracting-Data-11.1\"><span class=\"toc-item-num\">11.1&nbsp;&nbsp;</span>Extracting Data</a></span></li></ul></li><li><span><a href=\"#Tidying-Data\" data-toc-modified-id=\"Tidying-Data-12\"><span class=\"toc-item-num\">12&nbsp;&nbsp;</span>Tidying Data</a></span></li><li><span><a href=\"#Scrapping-Additional-Data\" data-toc-modified-id=\"Scrapping-Additional-Data-13\"><span class=\"toc-item-num\">13&nbsp;&nbsp;</span>Scrapping Additional Data</a></span></li><li><span><a href=\"#Exploratory-Data-Analysis\" data-toc-modified-id=\"Exploratory-Data-Analysis-14\"><span class=\"toc-item-num\">14&nbsp;&nbsp;</span>Exploratory Data Analysis</a></span><ul class=\"toc-item\"><li><span><a href=\"#Stock-Sectors\" data-toc-modified-id=\"Stock-Sectors-14.1\"><span class=\"toc-item-num\">14.1&nbsp;&nbsp;</span>Stock Sectors</a></span></li></ul></li><li><span><a href=\"#Gauging-Sector-Sentiment\" data-toc-modified-id=\"Gauging-Sector-Sentiment-15\"><span class=\"toc-item-num\">15&nbsp;&nbsp;</span>Gauging Sector Sentiment</a></span><ul class=\"toc-item\"><li><span><a href=\"#Comparing-Sector-ETF-Returns\" data-toc-modified-id=\"Comparing-Sector-ETF-Returns-15.1\"><span class=\"toc-item-num\">15.1&nbsp;&nbsp;</span>Comparing Sector ETF Returns</a></span></li><li><span><a href=\"#Number-of-stock-tweets-per-day\" data-toc-modified-id=\"Number-of-stock-tweets-per-day-15.2\"><span class=\"toc-item-num\">15.2&nbsp;&nbsp;</span>Number of stock tweets per day</a></span></li><li><span><a href=\"#Correlation\" data-toc-modified-id=\"Correlation-15.3\"><span class=\"toc-item-num\">15.3&nbsp;&nbsp;</span>Correlation</a></span></li><li><span><a href=\"#Plotting-Price-Percent-Change-vs.-Average-Sentiment\" data-toc-modified-id=\"Plotting-Price-Percent-Change-vs.-Average-Sentiment-15.4\"><span class=\"toc-item-num\">15.4&nbsp;&nbsp;</span>Plotting Price Percent Change vs. Average Sentiment</a></span></li><li><span><a href=\"#Plotting-Next-Day-Price-Percent-Change-vs.-Average-Sentiment\" data-toc-modified-id=\"Plotting-Next-Day-Price-Percent-Change-vs.-Average-Sentiment-15.5\"><span class=\"toc-item-num\">15.5&nbsp;&nbsp;</span>Plotting Next-Day Price Percent Change vs. Average Sentiment</a></span></li></ul></li><li><span><a href=\"#Overall-Market-Sentiment-vs-Bitcoin-Sentiment\" data-toc-modified-id=\"Overall-Market-Sentiment-vs-Bitcoin-Sentiment-16\"><span class=\"toc-item-num\">16&nbsp;&nbsp;</span>Overall Market Sentiment vs Bitcoin Sentiment</a></span><ul class=\"toc-item\"><li><span><a href=\"#Results\" data-toc-modified-id=\"Results-16.1\"><span class=\"toc-item-num\">16.1&nbsp;&nbsp;</span>Results</a></span></li></ul></li><li><span><a href=\"#Final-Thoughts\" data-toc-modified-id=\"Final-Thoughts-17\"><span class=\"toc-item-num\">17&nbsp;&nbsp;</span>Final Thoughts</a></span></li></ul></div>"
   ]
  },
  {
   "cell_type": "markdown",
   "metadata": {},
   "source": [
    "Link to website: https://danellsworth.github.io/"
   ]
  },
  {
   "cell_type": "markdown",
   "metadata": {},
   "source": [
    "## Financial Sentiment Analysis"
   ]
  },
  {
   "cell_type": "markdown",
   "metadata": {},
   "source": [
    "Dan Ellsworth and Alden Pratt\n",
    "\n",
    "> For our Final Tutorial Project, we will be examining the effectiveness of using sentiment analysis based on Twitter posts relating to publicly traded companies as a leading or lagging indicator of the stock price.  Fluctuations in stock prices can be largely attributed to changes in the attitude of its buyers and holders. As such, platforms in which people are allowed to freely voice their attitude toward a company, such as Twitter, can be influential for a broad audience of traders.  If a particular authority voices optimism regarding the future of a company’s stock, and enough people are convinced into buying, its stock price will increase to meet the increased demand.  Conversely, authority figures voicing pessimism generally results in a lower price.  We will be using company sentiment data from Twitter to see if there is a significant correlation between community sentiment and the change in the stock price. \n",
    "> Through studying this issue, several questions arise.  We are curious to know if sentiment generally follows stock prices or if stock prices follow sentiment. In other words, should we be looking at sentiment as a leading or lagging indicator of stock prices?  Who is influential?  Are some companies intrinsically more or less resistant to changes in sentiment?  Can our findings be used in developing a complete and profitable trading strategy?  \n",
    "    \n",
    "Below are a couple of data sets containing sentiment analysis for various companies:\n",
    "   >  https://www.kaggle.com/vivekrathi055/sentiment-analysis-on-financial-tweets \n",
    "   >  https://www.kaggle.com/yash612/stockmarket-sentiment-dataset\n",
    "    \n",
    "> To determine the effects that Twitter posts have on stock prices, we plan on combining one of these data sets with historical stock price data that can be pulled from Yahoo Finance.  Yahoo Finance provides data for stock price fluctuations for every company and every day.  We expect that the changes in public sentiment over time will somewhat mirror the changes in the stock price as provided by Yahoo Finance.    \n",
    "\n"
   ]
  },
  {
   "cell_type": "markdown",
   "metadata": {},
   "source": [
    "## Collaboration Plan"
   ]
  },
  {
   "cell_type": "markdown",
   "metadata": {},
   "source": [
    "> We have and will continue to meet via Zoom biweekly, and possibly more frequently as needed to satisfy approaching deadlines. We acknowledge that this will likely change depending on what phase of the project we are in.\n",
    "\n",
    "### Technologies:\n",
    "- Github to coordinate code\n",
    "- Shared Google Docs for write ups\n",
    "- Twitter API\n",
    "- RapidAPI (For Yahoo Finance data)\n",
    "\n",
    "\n",
    "\n",
    "\n",
    "\n"
   ]
  },
  {
   "cell_type": "markdown",
   "metadata": {},
   "source": [
    "### Setup up and import necessary libraries"
   ]
  },
  {
   "cell_type": "code",
   "execution_count": 1,
   "metadata": {},
   "outputs": [
    {
     "name": "stderr",
     "output_type": "stream",
     "text": [
      "C:\\Users\\Danel\\anaconda3\\lib\\site-packages\\pandas_datareader\\compat\\__init__.py:7: FutureWarning: pandas.util.testing is deprecated. Use the functions in the public API at pandas.testing instead.\n",
      "  from pandas.util.testing import assert_frame_equal\n"
     ]
    }
   ],
   "source": [
    "import pandas as pd\n",
    "import numpy as np\n",
    "import seaborn as sns\n",
    "import matplotlib.pyplot as plt\n",
    "import pandas_datareader.data as web\n",
    "import datetime\n",
    "import itertools\n",
    "import yfinance as yf\n",
    "import quandl\n",
    "import re\n",
    "%matplotlib inline\n",
    "from matplotlib import style"
   ]
  },
  {
   "cell_type": "markdown",
   "metadata": {},
   "source": [
    "#### Machine Learning and NLP imports"
   ]
  },
  {
   "cell_type": "code",
   "execution_count": 2,
   "metadata": {},
   "outputs": [
    {
     "name": "stderr",
     "output_type": "stream",
     "text": [
      "[nltk_data] Downloading package stopwords to\n",
      "[nltk_data]     C:\\Users\\Danel\\AppData\\Roaming\\nltk_data...\n",
      "[nltk_data]   Package stopwords is already up-to-date!\n",
      "[nltk_data] Downloading package punkt to\n",
      "[nltk_data]     C:\\Users\\Danel\\AppData\\Roaming\\nltk_data...\n",
      "[nltk_data]   Package punkt is already up-to-date!\n",
      "C:\\Users\\Danel\\anaconda3\\lib\\site-packages\\sklearn\\utils\\deprecation.py:144: FutureWarning: The sklearn.metrics.classification module is  deprecated in version 0.22 and will be removed in version 0.24. The corresponding classes / functions should instead be imported from sklearn.metrics. Anything that cannot be imported from sklearn.metrics is now part of the private API.\n",
      "  warnings.warn(message, FutureWarning)\n"
     ]
    }
   ],
   "source": [
    "# nltk\n",
    "import nltk \n",
    "nltk.download('stopwords')\n",
    "nltk.download('punkt')\n",
    "from nltk.tokenize import word_tokenize\n",
    "from string import punctuation\n",
    "from nltk.corpus import stopwords\n",
    "\n",
    "# sklearn\n",
    "from sklearn.feature_extraction.text import CountVectorizer\n",
    "from sklearn.preprocessing import MultiLabelBinarizer\n",
    "from sklearn.model_selection import StratifiedKFold\n",
    "from sklearn.preprocessing import OneHotEncoder\n",
    "from sklearn import preprocessing\n",
    "from sklearn.pipeline import Pipeline\n",
    "from sklearn.naive_bayes import MultinomialNB\n",
    "from sklearn.feature_extraction.text import CountVectorizer\n",
    "from sklearn.metrics import confusion_matrix,classification_report\n",
    "from sklearn.model_selection import train_test_split\n",
    "#from sklearn.linear_model import RidgeClassifier\n",
    "from sklearn.preprocessing import OrdinalEncoder, LabelEncoder\n",
    "\n",
    "# yellowbrick\n",
    "from yellowbrick.text import FreqDistVisualizer\n",
    "from yellowbrick.model_selection import LearningCurve\n",
    "from yellowbrick.classifier import ROCAUC\n",
    "from yellowbrick.style.palettes import PALETTES, SEQUENCES, color_palette\n",
    "from yellowbrick.style import rcmod\n",
    "rcmod.set_aesthetic(palette='yellowbrick', font='sans-serif', font_scale=1, color_codes=True, rc=None)"
   ]
  },
  {
   "cell_type": "markdown",
   "metadata": {},
   "source": [
    "## Table of Contents\n",
    "\n",
    "> #### S1: Apple Tweet Analysis\n",
    ">[1.1 Extracting Data](#ExtractingAppleData) <br>\n",
    ">[1.2 Natural Language Processing (NLP)](#NLP) <br>\n",
    ">[1.3 Text Analysis for Training Data](#TrainingTxt) <br>\n",
    ">[1.4 Testing Accuracy of Model](#TestAaplModel) <br>\n",
    "> - [1.4a ROCAUC Curves](#AaplRoc) <br>\n",
    "> - [1.4b Visualizing the Classification Model (F-Score)](#AaplClassVis) <br>\n",
    "> - [1.4c Visualizing the Classification Report](#AaplClassReport) <br> \n",
    "\n",
    ">[1.5 Predicting Unseen Data](#AaplPredictUnseen) <br>\n",
    ">[1.6 Text Analysis for Predicted Labels](#UnseenTxt) <br>\n",
    "\n",
    "<br>\n",
    "\n",
    "> #### S2: Gauging Airline Sentiment \n",
    ">[2.1 Extracting Data](#ExtractingAirlineData) <br>\n",
    ">[2.2 Text Analysis for Training Data](#TrainingTxtAirline) <br>\n",
    ">[2.3 Testing Accuracy of Model](#TestAirlineModel) <br>\n",
    "> - [2.3a ROCAUC Curves](#AirlineRoc) <br>\n",
    "> - [2.3b Visualizing the Classification Model (F-Score)](#AirlineClassVis) <br>\n",
    "> - [2.3c Visualizing the Classification Report](#AirlineClassReport) <br> \n",
    "\n",
    ">[2.4 Predicting Unseen Data](#AirlinePredictUnseen) <br>\n",
    ">[2.5 Text Analysis for Predicted Labels](#UnseenTxtAirline) <br>\n",
    ">[2.6 Comparing Sentiment to Stock Performance](#AirlineStockVsSent) <br>\n",
    "\n",
    "<br>\n",
    "\n",
    "> #### S3: Broad Market Sentiment Analysis\n",
    ">[3.1 Extracting Data](#ExtractingMarket) <br>\n",
    ">[3.2 Tidying Data](#TidyingMarket) <br>\n",
    ">[3.3 Scraping Additional Data](#ScrapingMarket) <br>\n",
    ">[3.4 Exploratory Data Analysis](#ExploratoryMarket) <br>\n",
    "> - [3.4a Gauging Sector Sentiment](#SectorMarket) <br>\n",
    "> - [3.4b Correlation](#CorrelationMarket) <br>\n",
    "> - [3.4c Bitcoin vs. S&P500](#BTCMarket) <br> \n",
    "\n",
    ">[3.5 Final Thoughts](#FinalThoughtsMarket) <br>\n",
    "\n"
   ]
  },
  {
   "cell_type": "markdown",
   "metadata": {},
   "source": [
    "## Apple Sentiment Analysis"
   ]
  },
  {
   "cell_type": "markdown",
   "metadata": {},
   "source": [
    "<a id='ExtractingAppleData'></a>\n",
    "### Extracting Apple Data"
   ]
  },
  {
   "cell_type": "code",
   "execution_count": 3,
   "metadata": {},
   "outputs": [
    {
     "data": {
      "text/html": [
       "<div>\n",
       "<style scoped>\n",
       "    .dataframe tbody tr th:only-of-type {\n",
       "        vertical-align: middle;\n",
       "    }\n",
       "\n",
       "    .dataframe tbody tr th {\n",
       "        vertical-align: top;\n",
       "    }\n",
       "\n",
       "    .dataframe thead th {\n",
       "        text-align: right;\n",
       "    }\n",
       "</style>\n",
       "<table border=\"1\" class=\"dataframe\">\n",
       "  <thead>\n",
       "    <tr style=\"text-align: right;\">\n",
       "      <th></th>\n",
       "      <th>_unit_id</th>\n",
       "      <th>_golden</th>\n",
       "      <th>_unit_state</th>\n",
       "      <th>_trusted_judgments</th>\n",
       "      <th>_last_judgment_at</th>\n",
       "      <th>sentiment</th>\n",
       "      <th>sentiment:confidence</th>\n",
       "      <th>date</th>\n",
       "      <th>id</th>\n",
       "      <th>query</th>\n",
       "      <th>sentiment_gold</th>\n",
       "      <th>text</th>\n",
       "    </tr>\n",
       "  </thead>\n",
       "  <tbody>\n",
       "    <tr>\n",
       "      <th>0</th>\n",
       "      <td>623495513</td>\n",
       "      <td>True</td>\n",
       "      <td>golden</td>\n",
       "      <td>10</td>\n",
       "      <td>NaN</td>\n",
       "      <td>3</td>\n",
       "      <td>0.6264</td>\n",
       "      <td>Mon Dec 01 19:30:03 +0000 2014</td>\n",
       "      <td>5.400000e+17</td>\n",
       "      <td>#AAPL OR @Apple</td>\n",
       "      <td>3\\nnot_relevant</td>\n",
       "      <td>#AAPL:The 10 best Steve Jobs emails ever...htt...</td>\n",
       "    </tr>\n",
       "    <tr>\n",
       "      <th>1</th>\n",
       "      <td>623495514</td>\n",
       "      <td>True</td>\n",
       "      <td>golden</td>\n",
       "      <td>12</td>\n",
       "      <td>NaN</td>\n",
       "      <td>3</td>\n",
       "      <td>0.8129</td>\n",
       "      <td>Mon Dec 01 19:43:51 +0000 2014</td>\n",
       "      <td>5.400000e+17</td>\n",
       "      <td>#AAPL OR @Apple</td>\n",
       "      <td>3\\n1</td>\n",
       "      <td>RT @JPDesloges: Why AAPL Stock Had a Mini-Flas...</td>\n",
       "    </tr>\n",
       "    <tr>\n",
       "      <th>2</th>\n",
       "      <td>623495515</td>\n",
       "      <td>True</td>\n",
       "      <td>golden</td>\n",
       "      <td>10</td>\n",
       "      <td>NaN</td>\n",
       "      <td>3</td>\n",
       "      <td>1.0000</td>\n",
       "      <td>Mon Dec 01 19:50:28 +0000 2014</td>\n",
       "      <td>5.400000e+17</td>\n",
       "      <td>#AAPL OR @Apple</td>\n",
       "      <td>3</td>\n",
       "      <td>My cat only chews @apple cords. Such an #Apple...</td>\n",
       "    </tr>\n",
       "    <tr>\n",
       "      <th>3</th>\n",
       "      <td>623495516</td>\n",
       "      <td>True</td>\n",
       "      <td>golden</td>\n",
       "      <td>17</td>\n",
       "      <td>NaN</td>\n",
       "      <td>3</td>\n",
       "      <td>0.5848</td>\n",
       "      <td>Mon Dec 01 20:26:34 +0000 2014</td>\n",
       "      <td>5.400000e+17</td>\n",
       "      <td>#AAPL OR @Apple</td>\n",
       "      <td>3\\n1</td>\n",
       "      <td>I agree with @jimcramer that the #IndividualIn...</td>\n",
       "    </tr>\n",
       "    <tr>\n",
       "      <th>4</th>\n",
       "      <td>623495517</td>\n",
       "      <td>False</td>\n",
       "      <td>finalized</td>\n",
       "      <td>3</td>\n",
       "      <td>12/12/2014 12:14</td>\n",
       "      <td>3</td>\n",
       "      <td>0.6474</td>\n",
       "      <td>Mon Dec 01 20:29:33 +0000 2014</td>\n",
       "      <td>5.400000e+17</td>\n",
       "      <td>#AAPL OR @Apple</td>\n",
       "      <td>NaN</td>\n",
       "      <td>Nobody expects the Spanish Inquisition #AAPL</td>\n",
       "    </tr>\n",
       "  </tbody>\n",
       "</table>\n",
       "</div>"
      ],
      "text/plain": [
       "    _unit_id  _golden _unit_state  _trusted_judgments _last_judgment_at  \\\n",
       "0  623495513     True      golden                  10               NaN   \n",
       "1  623495514     True      golden                  12               NaN   \n",
       "2  623495515     True      golden                  10               NaN   \n",
       "3  623495516     True      golden                  17               NaN   \n",
       "4  623495517    False   finalized                   3  12/12/2014 12:14   \n",
       "\n",
       "  sentiment  sentiment:confidence                            date  \\\n",
       "0         3                0.6264  Mon Dec 01 19:30:03 +0000 2014   \n",
       "1         3                0.8129  Mon Dec 01 19:43:51 +0000 2014   \n",
       "2         3                1.0000  Mon Dec 01 19:50:28 +0000 2014   \n",
       "3         3                0.5848  Mon Dec 01 20:26:34 +0000 2014   \n",
       "4         3                0.6474  Mon Dec 01 20:29:33 +0000 2014   \n",
       "\n",
       "             id            query   sentiment_gold  \\\n",
       "0  5.400000e+17  #AAPL OR @Apple  3\\nnot_relevant   \n",
       "1  5.400000e+17  #AAPL OR @Apple             3\\n1   \n",
       "2  5.400000e+17  #AAPL OR @Apple                3   \n",
       "3  5.400000e+17  #AAPL OR @Apple             3\\n1   \n",
       "4  5.400000e+17  #AAPL OR @Apple              NaN   \n",
       "\n",
       "                                                text  \n",
       "0  #AAPL:The 10 best Steve Jobs emails ever...htt...  \n",
       "1  RT @JPDesloges: Why AAPL Stock Had a Mini-Flas...  \n",
       "2  My cat only chews @apple cords. Such an #Apple...  \n",
       "3  I agree with @jimcramer that the #IndividualIn...  \n",
       "4       Nobody expects the Spanish Inquisition #AAPL  "
      ]
     },
     "execution_count": 3,
     "metadata": {},
     "output_type": "execute_result"
    }
   ],
   "source": [
    "# read in apple sentiment training data\n",
    "AppleDF = pd.read_csv('Apple-Tweet-Sentiment.csv', encoding=\"ISO-8859-1\")\n",
    "\n",
    "# import scraped airline Twitter data\n",
    "Unseen_tweets = pd.read_csv('Apple_Scraped_Tweets.csv')\n",
    "\n",
    "# declare start and end date for financial data\n",
    "start = datetime.datetime(2020,11,1)\n",
    "end = datetime.datetime(2020,12,25)\n",
    "\n",
    "# read AAPL financial data for declared dates\n",
    "AAPL = web.DataReader('AAPL', 'yahoo', start, end)\n",
    "\n",
    "AppleDF.head()"
   ]
  },
  {
   "cell_type": "code",
   "execution_count": 4,
   "metadata": {},
   "outputs": [
    {
     "data": {
      "text/html": [
       "<div>\n",
       "<style scoped>\n",
       "    .dataframe tbody tr th:only-of-type {\n",
       "        vertical-align: middle;\n",
       "    }\n",
       "\n",
       "    .dataframe tbody tr th {\n",
       "        vertical-align: top;\n",
       "    }\n",
       "\n",
       "    .dataframe thead th {\n",
       "        text-align: right;\n",
       "    }\n",
       "</style>\n",
       "<table border=\"1\" class=\"dataframe\">\n",
       "  <thead>\n",
       "    <tr style=\"text-align: right;\">\n",
       "      <th></th>\n",
       "      <th>High</th>\n",
       "      <th>Low</th>\n",
       "      <th>Open</th>\n",
       "      <th>Close</th>\n",
       "      <th>Volume</th>\n",
       "      <th>Adj Close</th>\n",
       "    </tr>\n",
       "    <tr>\n",
       "      <th>Date</th>\n",
       "      <th></th>\n",
       "      <th></th>\n",
       "      <th></th>\n",
       "      <th></th>\n",
       "      <th></th>\n",
       "      <th></th>\n",
       "    </tr>\n",
       "  </thead>\n",
       "  <tbody>\n",
       "    <tr>\n",
       "      <th>2020-11-02</th>\n",
       "      <td>110.680000</td>\n",
       "      <td>107.320000</td>\n",
       "      <td>109.110001</td>\n",
       "      <td>108.769997</td>\n",
       "      <td>122866900.0</td>\n",
       "      <td>108.582664</td>\n",
       "    </tr>\n",
       "    <tr>\n",
       "      <th>2020-11-03</th>\n",
       "      <td>111.489998</td>\n",
       "      <td>108.730003</td>\n",
       "      <td>109.660004</td>\n",
       "      <td>110.440002</td>\n",
       "      <td>107624400.0</td>\n",
       "      <td>110.249794</td>\n",
       "    </tr>\n",
       "    <tr>\n",
       "      <th>2020-11-04</th>\n",
       "      <td>115.589996</td>\n",
       "      <td>112.349998</td>\n",
       "      <td>114.139999</td>\n",
       "      <td>114.949997</td>\n",
       "      <td>138235500.0</td>\n",
       "      <td>114.752022</td>\n",
       "    </tr>\n",
       "    <tr>\n",
       "      <th>2020-11-05</th>\n",
       "      <td>119.620003</td>\n",
       "      <td>116.870003</td>\n",
       "      <td>117.949997</td>\n",
       "      <td>119.029999</td>\n",
       "      <td>126387100.0</td>\n",
       "      <td>118.824997</td>\n",
       "    </tr>\n",
       "    <tr>\n",
       "      <th>2020-11-06</th>\n",
       "      <td>119.199997</td>\n",
       "      <td>116.129997</td>\n",
       "      <td>118.320000</td>\n",
       "      <td>118.690002</td>\n",
       "      <td>114457900.0</td>\n",
       "      <td>118.690002</td>\n",
       "    </tr>\n",
       "  </tbody>\n",
       "</table>\n",
       "</div>"
      ],
      "text/plain": [
       "                  High         Low        Open       Close       Volume  \\\n",
       "Date                                                                      \n",
       "2020-11-02  110.680000  107.320000  109.110001  108.769997  122866900.0   \n",
       "2020-11-03  111.489998  108.730003  109.660004  110.440002  107624400.0   \n",
       "2020-11-04  115.589996  112.349998  114.139999  114.949997  138235500.0   \n",
       "2020-11-05  119.620003  116.870003  117.949997  119.029999  126387100.0   \n",
       "2020-11-06  119.199997  116.129997  118.320000  118.690002  114457900.0   \n",
       "\n",
       "             Adj Close  \n",
       "Date                    \n",
       "2020-11-02  108.582664  \n",
       "2020-11-03  110.249794  \n",
       "2020-11-04  114.752022  \n",
       "2020-11-05  118.824997  \n",
       "2020-11-06  118.690002  "
      ]
     },
     "execution_count": 4,
     "metadata": {},
     "output_type": "execute_result"
    }
   ],
   "source": [
    "AAPL.head()"
   ]
  },
  {
   "cell_type": "markdown",
   "metadata": {},
   "source": [
    "<a id='NLP'></a>\n",
    "## Natural Language Proccessing (NLP)\n",
    "> explain the goal of this section"
   ]
  },
  {
   "cell_type": "markdown",
   "metadata": {},
   "source": [
    "### Preprocessing the Training and Testing Data\n",
    "> To increase the effectivness of our NLP learning algorthim, it is important to clean the tweets before using them for analysis. The preprocessing step eliminates the following:\n",
    "-  stopwords (i.e. 'the', 'a', 'and', 'how', etc.)\n",
    "- any tweet with a question mark - questions are not good indicators of sentiment \n",
    "- any non-letter (including: numbers, emojis, and punctuation) \n",
    "- URL links\n",
    "- accounts refrenced using '@' symbol\n",
    "- any words less than 3 characters\n",
    "- Any Retweets - we decided not to count the same tweet twice\n"
   ]
  },
  {
   "cell_type": "code",
   "execution_count": 5,
   "metadata": {},
   "outputs": [],
   "source": [
    "# create a class that cleans a list of tweets\n",
    "class PreProcessTweets:\n",
    "    def __init__(self):\n",
    "        self._stopwords = set(stopwords.words('english') + list(punctuation) + ['AT_USER', 'URL'])\n",
    "    \n",
    "    def processTrainingTweets(self, list_of_tweets):\n",
    "        processedTweets = []\n",
    "        for index, tweet in list_of_tweets.iterrows():\n",
    "            processedTweets.append((self._process_training_tweet(tweet['text']), tweet['sentiment']) ) # posibly add confidence here \n",
    "        return processedTweets\n",
    "    \n",
    "    def processTweets(self, list_of_tweets):\n",
    "        processedTweets = []\n",
    "        for index, tweet in list_of_tweets.iterrows():\n",
    "            processedTweets.append((self._process_tweet(tweet['text']), tweet['sentiment']) ) # posibly add confidence here \n",
    "        return processedTweets\n",
    "    \n",
    "    def _process_training_tweet(self, tweet):\n",
    "        tweet = tweet.lower() # convert all letters to lowercase\n",
    "        tweet = re.sub('((www\\.[^\\s]+)|(https?://[^\\s]+))', '', tweet) # removes URL's\n",
    "        tweet = re.sub('@[^\\s]+', 'AT_USER', tweet) # removes usernames\n",
    "        tweet = re.sub(r'[^\\w\\s]', '', tweet) # removes all non alphanumeric or non whitespace\n",
    "        tweet = re.sub(r'[\\d]', '', tweet) # removes all digits\n",
    "        tweet = re.sub(r'\\b\\w{1,2}\\b', '', tweet) # removes any word smaller than 3\n",
    "        tweet = re.sub(r'\\s{2,}', ' ', tweet) # eliminates any spaces greater than 1\n",
    "        tweet = word_tokenize(tweet) # removes repeated characters (i.e. hellllllo to hello)\n",
    "        tweet_without_sw = [word for word in tweet if word not in self._stopwords]\n",
    "        filtered_tweet = (\" \").join(tweet_without_sw)\n",
    "        return filtered_tweet\n",
    "\n",
    "    def _process_tweet(self, tweet):\n",
    "        if (re.search(r'[?]', tweet)):  # Questions do not tell us sentiment, let's get rid of them\n",
    "            return np.nan\n",
    "        if (re.search(r'RT', tweet)):  # if it is a retweet, delete it (we don't want to count the same tweet many times)\n",
    "            return np.nan\n",
    "        tweet = tweet.lower() # convert all letters to lowercase\n",
    "        tweet = re.sub('((www\\.[^\\s]+)|(https?://[^\\s]+))', '', tweet) # removes URL's\n",
    "        tweet = re.sub('@[^\\s]+', 'AT_USER', tweet) # removes usernames\n",
    "        tweet = re.sub(r'[^\\w\\s]', '', tweet) # removes all non alphanumeric or non whitespace\n",
    "        tweet = re.sub(r'[\\d]', '', tweet) # removes all digits\n",
    "        tweet = re.sub(r'\\b\\w{1,2}\\b', '', tweet) # removes any word smaller than 3\n",
    "        tweet = re.sub(r'\\s{2,}', ' ', tweet) # eliminates any spaces greater than 1\n",
    "        tweet = word_tokenize(tweet) # removes repeated characters (i.e. hellllllo to hello)\n",
    "        tweet_without_sw = [word for word in tweet if word not in self._stopwords]\n",
    "        filtered_tweet = (\" \").join(tweet_without_sw)\n",
    "        return filtered_tweet"
   ]
  },
  {
   "cell_type": "code",
   "execution_count": 6,
   "metadata": {},
   "outputs": [
    {
     "data": {
      "image/png": "[encoded data removed]",
      "text/plain": [
       "<Figure size 576x396 with 1 Axes>"
      ]
     },
     "metadata": {},
     "output_type": "display_data"
    }
   ],
   "source": [
    "#style.use('seaborn-pastel') # change background for graph labels\n",
    "\n",
    "\n",
    "# Print plot of sentiment contained in pie chart \n",
    "plt.pie(AppleDF.sentiment.value_counts(), labels = ['neutral','negative','positive', 'not relevant']) #, colors = {\"3\": \"grey\", \"1\": \"Red\", \"5\": \"g\"})\n",
    "plt.title('Breakdown of Training Data Sentiment')\n",
    "plt.show()\n",
    "\n",
    "# omit the instances where the tweet is not relevant\n",
    "AppleDF = AppleDF[AppleDF.sentiment != 'not_relevant']\n",
    "\n",
    "# grab the columns we care about for training\n",
    "applelist = AppleDF[['text', 'sentiment']]\n",
    "\n",
    "\n",
    "tweetProcessor = PreProcessTweets()\n",
    "preprocessedTrainingSet = tweetProcessor.processTrainingTweets(applelist) # preprocess training data\n",
    "\n",
    "# revert back to DF\n",
    "Processed_Tweet_Training = pd.DataFrame((preprocessedTrainingSet), columns =['tweet', 'sentiment'])\n",
    "\n",
    "Processed_Tweet_Training.dropna(inplace = True) # drop any NA values (tweets that had question marks)\n"
   ]
  },
  {
   "cell_type": "markdown",
   "metadata": {},
   "source": [
    "<a id='TrainingTxt'></a>\n",
    "## Text Analysis For Training Data"
   ]
  },
  {
   "cell_type": "code",
   "execution_count": 7,
   "metadata": {},
   "outputs": [],
   "source": [
    "def word_frequency_graph(ProcessedTweetsDF):\n",
    "    \n",
    "    positive_text = []\n",
    "    neutral_text = []\n",
    "    negative_text = []\n",
    "\n",
    "    # seperate positive, negative, and neutral tweet text\n",
    "    for i, row in ProcessedTweetsDF.iterrows():\n",
    "        if row[1] in ['5', 'positive']:\n",
    "            positive_text.append(row[0])\n",
    "        elif row[1] in ['1', 'negative']:\n",
    "            negative_text.append(row[0])\n",
    "        else:\n",
    "            neutral_text.append(row[0])\n",
    "\n",
    "    # create figure and axes\n",
    "    fig, axs = plt.subplots(1,3, figsize=(20,15))\n",
    "\n",
    "    # calculate most frequent positive word tokens\n",
    "    vectorizer = CountVectorizer()\n",
    "    doc_pos = vectorizer.fit_transform(positive_text)\n",
    "    features   = vectorizer.get_feature_names()\n",
    "    visualizer = FreqDistVisualizer(features=features, orient='h',color = 'g', ax=axs[0])\n",
    "    visualizer.fit(doc_pos)\n",
    "    axs[0].set_title('Fequency Distribution of Positive Word Tokens')\n",
    "\n",
    "    # calculate most frequent negative word tokens\n",
    "    doc_neg = vectorizer.fit_transform(negative_text)\n",
    "    features   = vectorizer.get_feature_names()\n",
    "    visualizer = FreqDistVisualizer(features=features, orient='h',color = 'r', ax=axs[1])\n",
    "    visualizer.fit(doc_neg)\n",
    "    axs[1].set_title('Fequency Distribution of Negative Word Tokens')\n",
    "\n",
    "    # calculate most frequent neutral word tokens\n",
    "    vectorizer = CountVectorizer()\n",
    "    doc_neut = vectorizer.fit_transform(neutral_text)\n",
    "    features   = vectorizer.get_feature_names()\n",
    "    visualizer = FreqDistVisualizer(features=features, orient='h',color = 'gray', ax=axs[2])\n",
    "    visualizer.fit(doc_neut)\n",
    "\n",
    "    visualizer.show();  # plot figure"
   ]
  },
  {
   "cell_type": "code",
   "execution_count": 8,
   "metadata": {},
   "outputs": [
    {
     "data": {
      "image/png": "[encoded data removed]",
      "text/plain": [
       "<Figure size 1440x1080 with 3 Axes>"
      ]
     },
     "metadata": {},
     "output_type": "display_data"
    }
   ],
   "source": [
    "word_frequency_graph(Processed_Tweet_Training)"
   ]
  },
  {
   "cell_type": "markdown",
   "metadata": {},
   "source": [
    "<a id='TestAaplModel'></a>\n",
    "## Testing the Accuracy"
   ]
  },
  {
   "cell_type": "markdown",
   "metadata": {},
   "source": [
    "<a id='AaplRoc'></a>\n",
    "### ROCAUC Curves\n",
    "\n",
    "A ROCAUC (Receiver Operating Characteristic/Area Under the Curve) plot allows the user to visualize the tradeoff between the classifier’s sensitivity and specificity.\n",
    "\n",
    "The Receiver Operating Characteristic (ROC) is a measure of a classifier’s predictive quality that compares and visualizes the tradeoff between the model’s sensitivity and specificity. \n",
    "\n",
    "This leads to another metric, area under the curve (AUC), which is a computation of the relationship between false positives and true positives. The higher the AUC, the better the model generally is."
   ]
  },
  {
   "cell_type": "code",
   "execution_count": 9,
   "metadata": {},
   "outputs": [],
   "source": [
    "def ROC_Curve(Processed_Tweet_Training):  \n",
    "    # create dummy variables - i.e. tokenize words and label 1 or 0 \n",
    "    mlb = MultiLabelBinarizer()\n",
    "    X = pd.DataFrame(mlb.fit_transform([x.split(' ') for x in Processed_Tweet_Training['tweet']]),columns=mlb.classes_)\n",
    "\n",
    "    # transform sentiment into labels matching tokenized word DF\n",
    "    y = LabelEncoder().fit_transform(Processed_Tweet_Training['sentiment'])\n",
    "\n",
    "    # Create the train and test data\n",
    "    X_train, X_test, y_train, y_test = train_test_split(X, y)\n",
    "\n",
    "    # create figure and axes\n",
    "    fig, ax = plt.subplots(figsize=(10,7.5))\n",
    "    \n",
    "    # Instaniate the classification model and visualizer\n",
    "    model = MultinomialNB()\n",
    "    visualizer = ROCAUC(model, classes=[\"Negative Sentiment\", \"Neutral Sentiment\", \"Positive Sentiment\"], ax = ax)\n",
    "    \n",
    "\n",
    "    visualizer.fit(X_train, y_train)        # Fit the training data to the visualizer\n",
    "    visualizer.score(X_test, y_test)        # Evaluate the model on the test data\n",
    "    visualizer.show();               # Finalize and render the figure"
   ]
  },
  {
   "cell_type": "code",
   "execution_count": 10,
   "metadata": {},
   "outputs": [
    {
     "name": "stderr",
     "output_type": "stream",
     "text": [
      "C:\\Users\\Danel\\anaconda3\\lib\\site-packages\\sklearn\\base.py:197: FutureWarning: From version 0.24, get_params will raise an AttributeError if a parameter cannot be retrieved as an instance attribute. Previously it would return None.\n",
      "  FutureWarning)\n"
     ]
    },
    {
     "data": {
      "image/png": "[encoded data removed]",
      "text/plain": [
       "<Figure size 720x540 with 1 Axes>"
      ]
     },
     "metadata": {},
     "output_type": "display_data"
    }
   ],
   "source": [
    "# Call Receiver Operating Characteristic Function\n",
    "ROC_Curve(Processed_Tweet_Training)"
   ]
  },
  {
   "cell_type": "markdown",
   "metadata": {},
   "source": [
    "<a id='AaplClassVis'></a>\n",
    "### Visualizing the Classification Model (F-Score)\n",
    "\n",
    "we show how to visualize the learning curve of a classification model.\n",
    "reasons we choose the MultinomialNB Classifier is we did not have that much data and NB converges quickly"
   ]
  },
  {
   "cell_type": "code",
   "execution_count": 11,
   "metadata": {},
   "outputs": [],
   "source": [
    "def Visualize_Classification_Model(Processed_Tweet_Training):   \n",
    "    \n",
    "    mlb = MultiLabelBinarizer()\n",
    "    X = pd.DataFrame(mlb.fit_transform([x.split(' ') for x in Processed_Tweet_Training['tweet']]),columns=mlb.classes_)\n",
    "\n",
    "    # transform sentiment into labels matching tokenized word DF\n",
    "    y = LabelEncoder().fit_transform(Processed_Tweet_Training['sentiment'])\n",
    "    \n",
    "    # Create the learning curve visualizer\n",
    "    cv = StratifiedKFold(n_splits=12)\n",
    "    sizes = np.linspace(0.3, 1.0, 10)\n",
    "    \n",
    "     # create figure and axes\n",
    "    fig, ax = plt.subplots(figsize=(10,7.5))\n",
    "    \n",
    "    # Instantiate the classification model and visualizer\n",
    "    model = MultinomialNB()\n",
    "    visualizer = LearningCurve(\n",
    "        model, cv=cv, scoring='f1_weighted', train_sizes=sizes, n_jobs=4, ax = ax\n",
    "    )\n",
    "\n",
    "    visualizer.fit(X, y)        # Fit the data to the visualizer\n",
    "    visualizer.show();           # Finalize and render the figure"
   ]
  },
  {
   "cell_type": "code",
   "execution_count": 12,
   "metadata": {},
   "outputs": [
    {
     "name": "stderr",
     "output_type": "stream",
     "text": [
      "C:\\Users\\Danel\\anaconda3\\lib\\site-packages\\sklearn\\base.py:197: FutureWarning: From version 0.24, get_params will raise an AttributeError if a parameter cannot be retrieved as an instance attribute. Previously it would return None.\n",
      "  FutureWarning)\n"
     ]
    },
    {
     "data": {
      "image/png": "[encoded data removed]",
      "text/plain": [
       "<Figure size 720x540 with 1 Axes>"
      ]
     },
     "metadata": {},
     "output_type": "display_data"
    }
   ],
   "source": [
    "# create visualization of model - this might take a min to run\n",
    "Visualize_Classification_Model(Processed_Tweet_Training)"
   ]
  },
  {
   "cell_type": "code",
   "execution_count": null,
   "metadata": {},
   "outputs": [],
   "source": [
    "# create tokenize column\n",
    "Processed_Tweet_Training['tokenized_tweets'] = Processed_Tweet_Training.apply(lambda row: nltk.word_tokenize(row['tweet']), axis=1)\n"
   ]
  },
  {
   "cell_type": "markdown",
   "metadata": {},
   "source": [
    "<a id='AaplClassReport'></a>\n",
    "### Classification Report"
   ]
  },
  {
   "cell_type": "code",
   "execution_count": null,
   "metadata": {},
   "outputs": [],
   "source": [
    "X = Processed_Tweet_Training['tweet'] \n",
    "y = Processed_Tweet_Training[\"sentiment\"]\n",
    "\n",
    "# split the data into training and test set\n",
    "X_train, X_test, y_train, y_test = train_test_split(X, y, test_size=0.33, random_state=41)\n",
    "\n",
    "# vectorize using ngram 2\n",
    "cnt = CountVectorizer(analyzer = 'char',ngram_range=(6,6))\n",
    "\n",
    "# specify the model\n",
    "pipeline = Pipeline([\n",
    "   ('vectorizer',cnt),  \n",
    "   ('model',MultinomialNB())\n",
    "])\n",
    "\n",
    "# fit the pipeline and calculate predictions on the test set\n",
    "pipeline.fit(X_train,y_train)\n",
    "y_pred = pipeline.predict(X_test)\n",
    "\n",
    "confusion_matrix(y_test, y_pred)\n",
    "\n",
    "# print classification report - where 1 is negative, 3 is neutral, and 5 positive\n",
    "print(classification_report(y_test,y_pred)) "
   ]
  },
  {
   "cell_type": "code",
   "execution_count": null,
   "metadata": {},
   "outputs": [],
   "source": [
    "# training on the entire dataset\n",
    "\n",
    "# vectorize using ngram 2\n",
    "cnt = CountVectorizer(analyzer = 'char',ngram_range=(6,6))\n",
    "\n",
    "# specify the model\n",
    "pipeline = Pipeline([\n",
    "   ('vectorizer',cnt),  \n",
    "   ('model',MultinomialNB())\n",
    "])\n",
    "\n",
    "# fit the pipeline and calculate predictions on the test set\n",
    "pipeline.fit(X,y)\n",
    "y_pred = pipeline.predict(X_test)"
   ]
  },
  {
   "cell_type": "markdown",
   "metadata": {},
   "source": [
    "<a id='AaplPredictUnseen'></a>\n",
    "## Predicting Classification of Unseen Data"
   ]
  },
  {
   "cell_type": "code",
   "execution_count": null,
   "metadata": {},
   "outputs": [],
   "source": [
    "# predicting unseen data\n",
    "\n",
    "# format data for preprocessing \n",
    "Unseen_tweets_text = Unseen_tweets[['text', 'sentiment']]\n",
    "\n",
    "Preprocessed_Data = tweetProcessor.processTweets(Unseen_tweets_text) # preprocess test data\n",
    "Processed_Tweets = pd.DataFrame((Preprocessed_Data), columns =['tweet', 'sentiment'])\n",
    "\n",
    "Apple_Data = Unseen_tweets[Processed_Tweets['tweet'].notnull()] # get rid of omited rows in original DF\n",
    "Apple_Data.reset_index(inplace = True) # permanently reset the index to account for dropped values\n",
    "\n",
    "Processed_Tweets.dropna(inplace = True) # drop any NAN rows (tweets with question marks)\n",
    "y = Processed_Tweets[\"tweet\"] \n",
    "\n",
    "y_pred = pipeline.predict(y)\n",
    "\n",
    "Results = pd.DataFrame(list(zip(Processed_Tweets.tweet, y_pred)),\n",
    "  columns=['tweet','calculated_sentiment'])\n",
    "\n",
    "\n",
    "#Results = Results.sort_values(by = 'calculated sentiment')\n",
    "Results.to_csv(\"First Try2.csv\")\n",
    "\n",
    "# inner join the two DF's on the index column - which coresponds to the same observation\n",
    "AppleResultsDF = Results.merge(Apple_Data, how='inner', left_index = True, right_index = True)\n",
    "\n",
    "\n",
    "AppleResultsDF['date'] = pd.to_datetime(AppleResultsDF['date'])\n",
    "\n",
    "sentiment_day_counts = pd.crosstab(AppleResultsDF['date'].dt.date, AppleResultsDF.calculated_sentiment)\n",
    "(sentiment_day_counts.divide(\n",
    "    sentiment_day_counts.sum(axis=1), axis=0)\n",
    ").plot.bar(stacked=True, color = ['r', 'grey', 'g'])\n",
    "plt.title('Sentiment Breakdown Per Day')\n",
    "plt.ylabel('Sentiment Breakdown (%)')\n",
    "plt.xlabel('Date')\n",
    "plt.show()\n",
    "#sentiment_given_day = \n",
    "\n",
    "plt.pie(AppleResultsDF.groupby(AppleResultsDF['date'].dt.date).calculated_sentiment.value_counts())\n",
    "\n",
    "\n",
    "#plt.pie(Results['calculated_sentiment'].value_counts(), labels = ['neutral','negative','positive'])\n",
    "plt.plot();"
   ]
  },
  {
   "cell_type": "markdown",
   "metadata": {},
   "source": [
    "<a id='UnseenTxt'></a>\n",
    "\n",
    "### Text Analysis for Predicted Labels"
   ]
  },
  {
   "cell_type": "code",
   "execution_count": null,
   "metadata": {},
   "outputs": [],
   "source": [
    "# Word Frequency analysis on the predicted labels\n",
    "word_frequency_graph(AppleResultsDF[['tweet','calculated_sentiment']])"
   ]
  },
  {
   "cell_type": "code",
   "execution_count": null,
   "metadata": {},
   "outputs": [],
   "source": [
    "# map the strings indicating positive, negative, and neutral to numeric values 1, -1, and 0 respectively\n",
    "AppleResultsDF['calculated_sentiment'] = AppleResultsDF[\"calculated_sentiment\"].map({\n",
    "    \"5\": 1,\n",
    "    \"3\": 0,\n",
    "    \"1\": -1\n",
    "})\n",
    "\n",
    "# convert 'date' to datetime object\n",
    "AppleResultsDF['date'] = pd.to_datetime(AppleResultsDF['date'])\n",
    "AppleResultsDF['day'] = AppleResultsDF[\"date\"].dt.date # create column for date, excluding time (i.e. 11/22/2020)\n",
    "\n",
    "# Create two new Df's to plot\n",
    "Mean = AppleResultsDF.groupby(['day']).calculated_sentiment.mean() # mean sentiment analysis score by day\n",
    "Pct_Change = AppleResultsDF.groupby(['day']).calculated_sentiment.mean().pct_change(1) # daily pct change of mean sentiment\n",
    "\n",
    "\n",
    "# matplotlib operations\n",
    "fig, ax = plt.subplots(2,1,figsize=(15,12))\n",
    "ax[0].set_title('Mean Sentiment vs. Date',)\n",
    "ax[0].set_xlabel('Date')\n",
    "ax[0].set_ylabel('Mean Sentiment')\n",
    "Mean.plot(ax=ax[0]);\n",
    "\n",
    "ax[1].set_title('Daily Percent Change of Mean Sentiment vs. Date',)\n",
    "ax[1].set_xlabel('Date')\n",
    "ax[1].set_ylabel('Mean Sentiment (Daily % Change)')\n",
    "Pct_Change.plot(ax=ax[1]);\n"
   ]
  },
  {
   "cell_type": "code",
   "execution_count": null,
   "metadata": {},
   "outputs": [],
   "source": [
    "# Now repeat for the other dataframes\n",
    "AAPL['returns'] = AAPL['Close'].pct_change(1)\n",
    "\n",
    "AAPL['Cumulative Return'] = (1 + AAPL['returns']).cumprod()\n",
    "\n",
    "AAPL['Cumulative Return'].rolling(5).mean().plot(label='Apple',figsize=(16,8),title='Rolling Returns (5-Day Rolling Avg)')\n",
    "\n",
    "plt.ylabel(' ')\n",
    "plt.legend()"
   ]
  },
  {
   "cell_type": "markdown",
   "metadata": {},
   "source": [
    "### Preliminary Thoughts\n",
    "> While the NLP classification appears to be relativley accurate (80%), it is difficult to draw any meaningful conclusions in regaurds to where Apple stock might be headed. It is clear, that more people are heading to Twitter to complain about an Apple product than praise it; however, this does not necessarily mean Apple stock is in trouble. We can consider a few things:\n",
    "-  People have an incentive to complain when a product is malfunctioning but little incentive to praise a product when it works how we expect it to (Many negativley classified tweets reference the Big Sur update - we expect an update to work, but when it doesn't, an angry tweet storm ensues)"
   ]
  },
  {
   "cell_type": "markdown",
   "metadata": {},
   "source": [
    "## Section 2: Gauging Airline Sentiment Using NLP\n",
    "Let's try this with a variety of Airline tweets. Again, we will see more people tweet about a negative flight expirences than a good ones, but would we rather own the airline with the fewest or most complaints? "
   ]
  },
  {
   "cell_type": "markdown",
   "metadata": {},
   "source": [
    "<a id='ExtractingAirlineData'></a>\n",
    "### Extracting Airline Data"
   ]
  },
  {
   "cell_type": "code",
   "execution_count": null,
   "metadata": {},
   "outputs": [],
   "source": [
    "# import testing data\n",
    "Training_tweets = pd.read_csv('Twitter_Airline_Sentiment_Labeled.csv')\n",
    "\n",
    "# use heatmap to show sentiment\n",
    "Training_tweets.rename(columns = {'airline_sentiment': 'sentiment'}, inplace = True)\n",
    "\n",
    "# filter dataframe to only include 'text' and 'sentiment' columns\n",
    "Train_tweets_text = Training_tweets[['text', 'sentiment']]\n",
    "\n",
    "# declare start and end date for financial data\n",
    "start = datetime.datetime(2020,11,1)\n",
    "end = datetime.datetime(2020,12,25)\n",
    "\n",
    "# read data for airlines of interest\n",
    "# read S&P500 data for declared dates\n",
    "LUV = web.DataReader('LUV', 'yahoo', start, end)\n",
    "UAL = web.DataReader('UAL', 'yahoo', start, end)\n",
    "AAL = web.DataReader('AAL', 'yahoo', start, end)\n",
    "DAL = web.DataReader('DAL', 'yahoo', start, end)"
   ]
  },
  {
   "cell_type": "code",
   "execution_count": null,
   "metadata": {},
   "outputs": [],
   "source": [
    "# import testing data\n",
    "Testing_tweets = pd.read_csv('Twitter_Airline_Sentiment_Labeled.csv')\n",
    "\n",
    "# print graph of the training set - how each airline breaks down\n",
    "sentiment_airline_counts = pd.crosstab(Training_tweets['airline'], Training_tweets.sentiment)\n",
    "(sentiment_airline_counts.divide(\n",
    "    sentiment_airline_counts.sum(axis=1), axis=0)\n",
    ").plot.bar(stacked=True, color = ['r', 'grey', 'g'])\n",
    "plt.title(\"Sentiment Breakdown of Training Data\")\n",
    "plt.show();\n",
    "\n",
    "\n",
    "tweetProcessor = PreProcessTweets()\n",
    "preprocessedTrainingSet = tweetProcessor.processTrainingTweets(Train_tweets_text) # preprocess training data\n",
    "\n",
    "Processed_Tweet_Training = pd.DataFrame((preprocessedTrainingSet), columns =['tweet', 'sentiment'])\n",
    "Processed_Tweet_Training.dropna(inplace = True) # drop any NA values (tweets that had question marks)"
   ]
  },
  {
   "cell_type": "markdown",
   "metadata": {},
   "source": [
    "<a id='TrainingTxtAirline'></a>\n",
    "### Text Analysis of Training Set"
   ]
  },
  {
   "cell_type": "code",
   "execution_count": null,
   "metadata": {},
   "outputs": [],
   "source": [
    "word_frequency_graph(Processed_Tweet_Training)"
   ]
  },
  {
   "cell_type": "markdown",
   "metadata": {},
   "source": [
    "<a id='TestAirlineModel'></a>\n",
    "## Testing the Accuracy"
   ]
  },
  {
   "cell_type": "markdown",
   "metadata": {},
   "source": [
    "<a id='AirlineRoc'></a>\n",
    "### ROCAUC Curves"
   ]
  },
  {
   "cell_type": "code",
   "execution_count": null,
   "metadata": {},
   "outputs": [],
   "source": [
    "# Call Receiver Operating Characteristic Function\n",
    "ROC_Curve(Processed_Tweet_Training)"
   ]
  },
  {
   "cell_type": "markdown",
   "metadata": {},
   "source": [
    "<a id='AirlineClassVis'></a>\n",
    "### Visualizing the Classification Model (F-Score)\n"
   ]
  },
  {
   "cell_type": "code",
   "execution_count": null,
   "metadata": {},
   "outputs": [],
   "source": [
    "Visualize_Classification_Model(Processed_Tweet_Training)"
   ]
  },
  {
   "cell_type": "markdown",
   "metadata": {},
   "source": [
    "<a id='AirlineClassReport'></a>\n",
    "### Classification Report"
   ]
  },
  {
   "cell_type": "code",
   "execution_count": null,
   "metadata": {},
   "outputs": [],
   "source": [
    "# define X as the tweets and y as the labels \n",
    "X = Processed_Tweet_Training['tweet'] \n",
    "y = Processed_Tweet_Training[\"sentiment\"]\n",
    "\n",
    "# split the data into training and test set\n",
    "X_train, X_test, y_train, y_test = train_test_split(X, y, test_size=0.33, random_state=41)\n",
    "\n",
    "# vectorize using ngram 2\n",
    "cnt = CountVectorizer(analyzer = 'char',ngram_range=(5,5))\n",
    "\n",
    "# specify the model\n",
    "pipeline = Pipeline([\n",
    "   ('vectorizer',cnt),  \n",
    "   ('model',MultinomialNB())\n",
    "])\n",
    "\n",
    "# fit the pipeline and calculate predictions on the test set\n",
    "pipeline.fit(X_train,y_train)\n",
    "y_pred = pipeline.predict(X_test)\n",
    "\n",
    "# print classification report - determines the accuracy of model\n",
    "print(classification_report(y_test,y_pred))\n",
    "\n",
    "# zip the calculated results together with the actual results\n",
    "Results = pd.DataFrame(list(zip(y_test, y_pred)),\n",
    "  columns=['actual sentiment','calculated sentiment'])"
   ]
  },
  {
   "cell_type": "code",
   "execution_count": null,
   "metadata": {},
   "outputs": [],
   "source": [
    "# retraining using all the data \n",
    "# vectorize using ngram 2\n",
    "cnt = CountVectorizer(analyzer = 'char',ngram_range=(6,6))\n",
    "\n",
    "# specify the model\n",
    "pipeline = Pipeline([\n",
    "   ('vectorizer',cnt),  \n",
    "   ('model',MultinomialNB())\n",
    "])\n",
    "\n",
    "# fit the pipeline and calculate predictions on the test set\n",
    "pipeline.fit(X,y);"
   ]
  },
  {
   "cell_type": "markdown",
   "metadata": {},
   "source": [
    "<a id='AirlinePredictUnseen'></a>\n",
    "### Predicting Unseen Data"
   ]
  },
  {
   "cell_type": "code",
   "execution_count": null,
   "metadata": {},
   "outputs": [],
   "source": [
    "# import unseen airline tweet data (saved on local storage)\n",
    "Airline_Data = pd.read_csv('Airline_Scrapped_Tweets.csv')\n",
    "Airline_Tweets = Airline_Data[['text', 'sentiment']]\n",
    "\n",
    "tweetProcessor = PreProcessTweets()\n",
    "Preprocessed_Airline_Tweets = tweetProcessor.processTweets(Airline_Tweets) # preprocess training data\n",
    "\n",
    "# format the cleaned tweets (proccesed) into a new DF\n",
    "Processed_Tweets = pd.DataFrame((Preprocessed_Airline_Tweets), columns =['tweet', 'sentiment'])\n",
    "\n",
    "Airline_Data = Airline_Data[Processed_Tweets['tweet'].notnull()] # get rid of omited rows in original DF\n",
    "Airline_Data.reset_index(inplace = True) # permanently reset the index to account for dropped values\n",
    "\n",
    "# drop any Nan rows (tweets with question marks)\n",
    "Processed_Tweets.dropna(inplace = True)\n",
    "\n",
    "y = Processed_Tweets[\"tweet\"] # let y equal the tweet column\n",
    "y_pred = pipeline.predict(y) # predict labels for y\n",
    "\n",
    "# zip together the predictions and the cleaned tweets to a new DF\n",
    "Results = pd.DataFrame(list(zip(Processed_Tweets.tweet, y_pred)),\n",
    "  columns=['tweet','calculated_sentiment'])\n",
    "\n",
    "# inner join the two DF's on the index column - which coresponds to the same observation\n",
    "AirlineResultsDF = Results.merge(Airline_Data, how='inner', left_index = True, right_index = True)"
   ]
  },
  {
   "cell_type": "markdown",
   "metadata": {},
   "source": [
    "<a id='UnseenTxtAirline'></a>\n",
    "### Language Analysis"
   ]
  },
  {
   "cell_type": "code",
   "execution_count": null,
   "metadata": {},
   "outputs": [],
   "source": [
    "word_frequency_graph(AirlineResultsDF[['tweet','calculated_sentiment']])"
   ]
  },
  {
   "cell_type": "markdown",
   "metadata": {},
   "source": [
    "<a id='AirlineStockVsSent'></a>\n",
    "### Airline Twitter Sentiment Vs. Stock Prices\n"
   ]
  },
  {
   "cell_type": "code",
   "execution_count": null,
   "metadata": {},
   "outputs": [],
   "source": [
    "AirlineResultsDF['calculated_sentiment'] = AirlineResultsDF[\"calculated_sentiment\"].map({\n",
    "    \"positive\": 1,\n",
    "    \"neutral\": 0,\n",
    "    \"negative\": -1\n",
    "})\n",
    "\n",
    "print(AirlineResultsDF.groupby('airline').calculated_sentiment.mean())\n",
    "\n",
    "# read results to csv \n",
    "AirlineResultsDF.to_csv(\"Airline.csv\")"
   ]
  },
  {
   "cell_type": "markdown",
   "metadata": {},
   "source": [
    "### Calculating Changes in Sentiment\n",
    "> Here we plot out the changes in sentiment each day to gauge trends over time. Ideally we would have more data, so that we could take the rolling avg of the calculated sentiment scores (this would greatly reduce the noise we see here). The first graph, uses "
   ]
  },
  {
   "cell_type": "code",
   "execution_count": null,
   "metadata": {},
   "outputs": [],
   "source": [
    "# convert 'date' to datetime object\n",
    "AirlineResultsDF['date'] = pd.to_datetime(AirlineResultsDF['date'])\n",
    "AirlineResultsDF['day'] = AirlineResultsDF[\"date\"].dt.date  # create column for date, excluding time (i.e. 11/22/2020)\n",
    "\n",
    "# calculate the mean sentiment given the airline and day\n",
    "Mean = AirlineResultsDF.groupby(['day','airline']).calculated_sentiment.mean()\n",
    "\n",
    "# transform 'calculated_sentiment' so all values are positive\n",
    "AirlineResultsDF['calculated_sentiment'] += 1 \n",
    "Pct_Change = AirlineResultsDF.groupby(['day','airline']).calculated_sentiment.mean().pct_change(1) # find daily pct change\n",
    "\n",
    "# unstack the `airline` index, to place it as columns\n",
    "Mean = Mean.unstack(level='airline')\n",
    "Pct_Change = Pct_Change.unstack(level='airline')\n",
    "\n",
    "# The name of columns will become the name of legend when using dataframe plot\n",
    "Mean.columns.name = 'Sentiment'\n",
    "Pct_Change.columns.name = 'Sentiment'\n",
    "\n",
    "# Here we use dataframe plot function\n",
    "fig, ax = plt.subplots(2, 1, figsize=(15,12))\n",
    "ax[0].set_title('Mean Sentiment vs. Date',)\n",
    "ax[0].set_xlabel('Date')\n",
    "ax[0].set_ylabel('Mean Sentiment')\n",
    "Mean.plot(ax=ax[0]);\n",
    "\n",
    "# plot pct change on 2nd axis\n",
    "ax[1].set_title('Daily Percent Change of Mean Sentiment vs. Date',)\n",
    "ax[1].set_xlabel('Date')\n",
    "ax[1].set_ylabel('Mean Sentiment (Daily % Change)')\n",
    "Pct_Change.plot(ax=ax[1]);\n"
   ]
  },
  {
   "cell_type": "code",
   "execution_count": null,
   "metadata": {},
   "outputs": [],
   "source": [
    "# create figure and axes\n",
    "fig, ax = plt.subplots(2,1,figsize=(16,16))\n",
    "\n",
    "# Common ETF's we will use to compare against tweet sentiment grouped by financial sector\n",
    "Stocks = ['LUV', 'DAL', 'AAL', 'UAL']\n",
    "\n",
    "# for each stock, calculate returns, cumulative returns and then plot 5 day rolling avg of cumulative returns\n",
    "for stock in Stocks:\n",
    "    locals()[stock]['returns'] = locals()[stock]['Close'].pct_change(1)\n",
    "    locals()[stock]['Cumulative Return'] = (1 + locals()[stock]['returns']).cumprod()\n",
    "    locals()[stock]['Cumulative Return'].rolling(5).mean().plot(label= stock, ax = ax[0])\n",
    "    locals()[stock]['returns'].rolling(5).mean().plot(label= stock, ax = ax[1])\n",
    "\n",
    "ax[0].set_title('Rolling Cumulative Returns (5-Day Rolling Avg)', size = 16)\n",
    "ax[0].set_ylabel('Cumulative Returns (%)')\n",
    "\n",
    "ax[1].set_title('Rolling Daily Returns (5-Day Rolling Avg)', size = 16)\n",
    "ax[1].set_ylabel('Daily Returns (%)')\n",
    "plt.legend()\n",
    "plt.show();\n",
    "\n",
    "# Note this could have been done for each company individually using: \n",
    "# LUV['returns'] = LUV['Close'].pct_change(1)\n",
    "# LUV['Cumulative Return'] = (1 + LUV['returns']).cumprod()\n",
    "# LUV['Cumulative Return'].rolling(5).mean().plot(label='Southwest',figsize=(16,8),title='Rolling Returns (5-Day Rolling Avg)')\n"
   ]
  },
  {
   "cell_type": "markdown",
   "metadata": {},
   "source": [
    "### Results\n",
    "\n",
    "> We do not have enough sentiment data to make any claims. However, given the data we have thus far, we have seen that Twitter users are most likely to complain about American Airlines. Over this same time-frame, the 5-day moving average of AAL stock returns is also lagging compared to other US airlines. We cannot say these two events relate because of a lack of data. Ideally, we would have years of sentiment data - then we could take the moving average of both sentiment and stock prices to eliminate the noise associated with social media and markets."
   ]
  },
  {
   "cell_type": "markdown",
   "metadata": {},
   "source": [
    "## Section 3: Broad Market Sentiment Analysis"
   ]
  },
  {
   "cell_type": "markdown",
   "metadata": {},
   "source": [
    "<a id='ExtractingMarket'></a>\n",
    "### Extracting Data"
   ]
  },
  {
   "cell_type": "code",
   "execution_count": null,
   "metadata": {},
   "outputs": [],
   "source": [
    "# read the data from csv files\n",
    "StockDF = pd.read_csv('TwitterStockData.csv')\n",
    "SentimentDF = pd.read_csv('tweet_sentiment.csv')\n",
    "\n",
    "# declare start and end date for financial data\n",
    "start = datetime.datetime(2018,7,17)\n",
    "end = datetime.datetime(2018,10,25)\n",
    "\n",
    "# read S&P500 data for declared dates\n",
    "SPY500 = web.DataReader('SPY', 'yahoo', start, end)\n",
    "BTC = web.DataReader('BTC-USD', 'yahoo', start, end)\n",
    "\n",
    "StockDF.head()\n"
   ]
  },
  {
   "cell_type": "code",
   "execution_count": null,
   "metadata": {},
   "outputs": [],
   "source": [
    "SentimentDF.head()"
   ]
  },
  {
   "cell_type": "code",
   "execution_count": null,
   "metadata": {},
   "outputs": [],
   "source": [
    "SPY500.head()"
   ]
  },
  {
   "cell_type": "markdown",
   "metadata": {},
   "source": [
    "<a id='TidyingMarket'></a>\n",
    "## Tidying Data\n",
    "\n",
    "> The data we have used here was conveniently formatted in a way that did not require much altering. The data from Kaggle contained two separate CSV files. One for tweet information, and another for sentiment scores for cleaned tweets (a cleaned tweet omits unimportant words). Since sentiment scores are different from tweet information, this is exactly how we hoped the tables would be formatted. We can combine the two tables based on the indexes, as we do below:"
   ]
  },
  {
   "cell_type": "code",
   "execution_count": null,
   "metadata": {},
   "outputs": [],
   "source": [
    "# merge the two data frames (tweet info and tweet sentiment) - inner join based on index\n",
    "StockSentimentDF = StockDF.merge(SentimentDF, how='inner', left_index = True, right_index=True)"
   ]
  },
  {
   "cell_type": "markdown",
   "metadata": {},
   "source": [
    "<a id='ScrapingMarket'></a>\n",
    "## Scrapping Additional Data \n",
    ">We wanted to use additional data so we scrapped data using the Python Yahoo! Finance library. This allows us to add useful info such as stock price movements (in the days following the tweet), tweet date as a datetime object, and the stock's sector. Using Yahoo Finance to scrape is extremely time-intensive, so we ran it on small subsets of our data and appended the results to a CSV file stored in local storage. This way we can read a CSV file in local storage instead of repeatedly scraping. To demonstrate the web scraping, we left the following example using the first ten entities:\n"
   ]
  },
  {
   "cell_type": "code",
   "execution_count": null,
   "metadata": {},
   "outputs": [],
   "source": [
    "StockSentimentDF = StockSentimentDF.head(10)\n",
    "\n",
    "def getStockData(symbol, date):\n",
    "        if not \"-\" in symbol:\n",
    "            t = yf.download(symbol, start=date, end=date + datetime.timedelta(days=1))\n",
    "            if t.size > 0:\n",
    "                perc_change = (t[\"Open\"].iloc[0] - t[\"Close\"].iloc[0] ) / t[\"Open\"].iloc[0]  * 100\n",
    "                return perc_change\n",
    "            return None\n",
    "        else:\n",
    "            return None\n",
    "        \n",
    "def getSector(symbol):\n",
    "    try:\n",
    "        ticker = yf.Ticker(symbol)\n",
    "        c = ticker.info['sector']\n",
    "        return c\n",
    "    except:\n",
    "        return None\n",
    "    \n",
    "def tweetDate(timestamp):\n",
    "    t = datetime.datetime.strptime(timestamp, \"%a %b %d %H:%M:%S +0000 %Y\")\n",
    "    return t.date()\n",
    "\n",
    "StockSentimentDF[\"date\"] = StockSentimentDF.apply(lambda row: tweetDate(row[\"timestamp\"]), axis = 1)\n",
    "\n",
    "StockSentimentDF[\"perc_change\"] = StockSentimentDF.apply(lambda row: getStockData(row[\"symbols\"], row[\"date\"]), axis = 1)\n",
    "StockSentimentDF[\"NextDay_perc_change\"] = StockSentimentDF.apply(lambda row: getStockData(row[\"symbols\"], row[\"date\"] + datetime.timedelta(days=1)), axis = 1)\n",
    "StockSentimentDF[\"sector\"] = StockSentimentDF.apply(lambda row: getSector(row[\"symbols\"]), axis = 1)"
   ]
  },
  {
   "cell_type": "markdown",
   "metadata": {},
   "source": [
    ">Note: Many of the observations will return 'failed to download' because most of our data is from 2018 and many ticker symbols have changed or been delisted.\n",
    "\n",
    "<br>\n",
    "\n",
    "Our data table now appears in the following format:"
   ]
  },
  {
   "cell_type": "code",
   "execution_count": null,
   "metadata": {},
   "outputs": [],
   "source": [
    "StockSentimentDF.head()"
   ]
  },
  {
   "cell_type": "code",
   "execution_count": null,
   "metadata": {},
   "outputs": [],
   "source": [
    "# read the data we have already scraped and saved locally\n",
    "StockSentimentDF = pd.read_csv('WebScrapedStockData.csv')\n",
    "StockSentimentDF['date'] = pd.to_datetime(StockSentimentDF['date']) #change date column to datetime object"
   ]
  },
  {
   "cell_type": "markdown",
   "metadata": {},
   "source": [
    "<a id='ExploratoryMarket'></a>\n",
    "## Exploratory Data Analysis"
   ]
  },
  {
   "cell_type": "markdown",
   "metadata": {},
   "source": [
    "### Stock Sectors\n",
    "> First, we looked at the sector of stocks mentioned in our Twitter data.  Our distribution contains several different sectors, which means that users on Twitter are interested in a very diverse set of stocks."
   ]
  },
  {
   "cell_type": "code",
   "execution_count": null,
   "metadata": {},
   "outputs": [],
   "source": [
    "# count how many instances of each sector\n",
    "Sectors = StockSentimentDF.groupby(['sector']).count()\n",
    "Sectors[\"text\"].plot.bar()"
   ]
  },
  {
   "cell_type": "markdown",
   "metadata": {},
   "source": [
    "<a id='SectorgMarket'></a>\n",
    "## Gauging Sector Sentiment\n",
    ">We can attempt to gauge if tweet sentiment grouped by sector helps us determine trends in various sectors. The ETF's we will use to measure performance are the following:\n",
    "\n",
    ">- Energy: XLE\n",
    ">- Materials: XLB\n",
    ">- Industrials: XLI\n",
    ">- Consumer Discretionary: XLY\n",
    ">- Consumer Staples: XLP\n",
    ">- Health Care: XLV\n",
    ">- Financials: XLF\n",
    ">- Information Technology: SMH\n",
    ">- Telecommunication Services: XTL\n",
    ">- Utilities: XLU\n",
    ".- Real Estate: IYR \n",
    "\n",
    "First, we determine what our data says about various sectors by summing the net sentiment analysis for each sector:"
   ]
  },
  {
   "cell_type": "code",
   "execution_count": null,
   "metadata": {},
   "outputs": [],
   "source": [
    "# bar plot of the net sentiment value for each sector\n",
    "StockSentimentDF.groupby(['sector']).sentiment.sum().plot.bar();\n",
    "plt.ylabel('Net Sentiment Score')\n",
    "\n",
    "# print total sentiment score table - Notice they are all positive\n",
    "print(StockSentimentDF.groupby(['sector']).sentiment.sum())"
   ]
  },
  {
   "cell_type": "markdown",
   "metadata": {},
   "source": [
    "Note: Notice how all the sectors have a net positive sentiment score. This might mean a couple of things:\n",
    ">1. The market is healthy across most sectors at this time (possibly some healthier than others)\n",
    ">2. The algorithm used to calculate sentiment is not accurate (biased in thinking tweets are positive)\n",
    ">3. People generally tweet more about positive things than negative things\n",
    "\n",
    ">This warrants further investigation for the final deliverable.\n",
    "\n",
    "We know from the previous section that the distribution of tweets by sector is not evenly distributed (i.e. there are more than 600 tweets about healthcare and consumer cyclical companies and less than 100 tweets regarding communication services). Thus, it is probably better to look at the mean sentiment analysis by each sector:"
   ]
  },
  {
   "cell_type": "code",
   "execution_count": null,
   "metadata": {},
   "outputs": [],
   "source": [
    "StockSentimentDF.groupby(['sector']).sentiment.mean().plot.bar();\n",
    "plt.ylabel('Net Sentiment Score')\n",
    "plt.show();"
   ]
  },
  {
   "cell_type": "markdown",
   "metadata": {},
   "source": [
    "Now we record info on the specified ETF's that relate to each sector:"
   ]
  },
  {
   "cell_type": "code",
   "execution_count": null,
   "metadata": {},
   "outputs": [],
   "source": [
    "# Common ETF's we will use to compare against tweet sentiment grouped by financial sector\n",
    "ETFs = ['XLE', 'XLB', 'XLI', 'XLY', 'XLP', 'XLV', 'XLF', 'SMH', 'XTL', 'XLU', 'IYR']\n",
    "\n",
    "# for each etf, grab the data for the desired dates\n",
    "for etf in ETFs:\n",
    "    locals()[etf] = web.DataReader(etf, 'yahoo', start, end) # save price information to local variable with name of ETF"
   ]
  },
  {
   "cell_type": "markdown",
   "metadata": {},
   "source": [
    "### Comparing Sector ETF Returns\n",
    "> We saw in the previous section that the Consumer Cyclical and Industrial sectors seem to have a positive sentiment on Twitter. Communications and Utilities appear to be lagging in terms of net tweet sentiment (more neutral). We first calculate the returns for these sectors using the ETF's described above, and then we compare the distribution of these sectors returns (daily percent change) using a histogram and a kernel density plot.\n"
   ]
  },
  {
   "cell_type": "code",
   "execution_count": null,
   "metadata": {},
   "outputs": [],
   "source": [
    "# Calculate returns for positive sentiment sectors\n",
    "XLY['Returns'] = (XLY['Close'] / XLY['Close'].shift(1)) - 1 # Consumer Cyclical\n",
    "XLI['Returns'] = (XLI['Close'] / XLI['Close'].shift(1)) - 1 # Industrials\n",
    "\n",
    "# Calculate returns for the more neutral sentiment sectors\n",
    "XTL['Returns'] = (XTL['Close'] / XTL['Close'].shift(1)) - 1 # Communications\n",
    "XLU['Returns'] = (XLU['Close'] / XLU['Close'].shift(1)) - 1 # Utilities\n",
    "\n",
    "# alternative method: XLU['Returns'] = XLU['Close'].pct_change(1)\n",
    "\n",
    "XLY['Returns'].hist(bins=20, label = 'Consumer Cyclical Sector', figsize = (10,8), alpha = 0.5)\n",
    "XLI['Returns'].hist(bins=20, label = 'Industrials', figsize = (10,8), alpha = 0.5)\n",
    "XTL['Returns'].hist(bins=20, label = 'Communications Sector', figsize = (10,8), alpha = 0.5)\n",
    "XLU['Returns'].hist(bins=20, label = 'Utilities Sector', figsize = (10,8), alpha = 0.5)\n",
    "plt.xlabel('Daily Percent Change')\n",
    "plt.title('Sectors of the Stock Market')\n",
    "plt.legend()\n",
    "plt.show();\n",
    "\n",
    "# simliar method for kernal density plot\n",
    "XLY['Returns'].plot(kind = 'kde', label = 'Consumer Cyclical', figsize = (10,8), alpha = 0.5)\n",
    "XLI['Returns'].plot(kind = 'kde', label = 'Industrials', figsize = (10,8), alpha = 0.5)\n",
    "XTL['Returns'].plot(kind = 'kde', label = 'Communications', figsize = (10,8), alpha = 0.5)\n",
    "XLU['Returns'].plot(kind = 'kde', label = 'Utilities', figsize = (10,8), alpha = 0.5)\n",
    "plt.xlabel('Daily Percent Change')\n",
    "plt.title('Sectors of the Stock Market')\n",
    "plt.legend()\n",
    "plt.show();"
   ]
  },
  {
   "cell_type": "markdown",
   "metadata": {},
   "source": [
    "This shows us that the Consumer Cyclical and Industrial ETF's had less volatility. We can also see that Utilities did not perform well over this period because the peak density is a negative percent change. The Communications ETF was more volatile than the others over this period (we can tell because it is a wider distribution)."
   ]
  },
  {
   "cell_type": "markdown",
   "metadata": {},
   "source": [
    "### Number of stock tweets per day\n",
    "> Next, we were interested in the number of tweets any given stock gets in one day.  Our set is rather limited, and the most popular symbol-date pairings are shown below.  "
   ]
  },
  {
   "cell_type": "code",
   "execution_count": null,
   "metadata": {},
   "outputs": [],
   "source": [
    "b = StockSentimentDF.groupby(['symbols', 'date']).count()\n",
    "b = b.sort_values(\"text\", ascending = False).head() # top 5 most commonly tweeted stocks on any given day\n",
    "selection = b['text']\n",
    "print(selection) # print the 5 most popular symbol-date pairings"
   ]
  },
  {
   "cell_type": "markdown",
   "metadata": {},
   "source": [
    "<a id='CorrelationMarket'></a>\n",
    "### Correlation"
   ]
  },
  {
   "cell_type": "markdown",
   "metadata": {},
   "source": [
    "### Plotting Price Percent Change vs. Average Sentiment\n",
    "\n",
    "> Here, we take the average sentiment from Twitter regarding a particular stock on a particular date, and plot it against the percent change on that day.  We expect to see a positive correlation between the two because if a stock performs well on a given day, we expect general optimism throughout Tweets on that day. "
   ]
  },
  {
   "cell_type": "code",
   "execution_count": null,
   "metadata": {},
   "outputs": [],
   "source": [
    "m = StockSentimentDF.groupby(['symbols', 'date']).mean()\n",
    "t = StockSentimentDF.merge(m, on=[\"symbols\", \"perc_change\"])\n",
    "t.plot.scatter(x=\"perc_change\", y=\"sentiment_y\")\n",
    "print(\"Correlation: \", t[\"perc_change\"].corr(t[\"sentiment_y\"]))"
   ]
  },
  {
   "cell_type": "markdown",
   "metadata": {},
   "source": [
    "### Plotting Next-Day Price Percent Change vs. Average Sentiment\n",
    "> This is similar to the plot above.  However, instead of looking at the price percent change of the day of the tweet, we are now looking at the price percent change of the next day.  In essence, a positive correlation means that optimistic tweets might have optimistic effects on a stock on the following day.  "
   ]
  },
  {
   "cell_type": "code",
   "execution_count": null,
   "metadata": {},
   "outputs": [],
   "source": [
    "m = StockSentimentDF.groupby(['symbols', 'date']).mean()\n",
    "t = StockSentimentDF.merge(m, on=[\"symbols\", \"NextDay_perc_change\"])\n",
    "t.plot.scatter(x=\"NextDay_perc_change\", y=\"sentiment_y\")\n",
    "print(\"Correlation: \", t[\"NextDay_perc_change\"].corr(t[\"sentiment_y\"]))"
   ]
  },
  {
   "cell_type": "markdown",
   "metadata": {},
   "source": [
    "<a id='BTCMarket'></a>\n",
    "## Overall Market Sentiment vs Bitcoin Sentiment\n",
    "\n",
    ">We also wanted to check to see if Twitter sentiment could gauge whether Bitcoin or the overall market (we'll use the S&P500 to measure this) is more likely to rise. We first create two bar plots to compare Twitter's bitcoin sentiment and Twitter's market sentiment (Non-cryptocurrencies)."
   ]
  },
  {
   "cell_type": "code",
   "execution_count": null,
   "metadata": {},
   "outputs": [],
   "source": [
    "# read the data from csv files\n",
    "StockDF = pd.read_csv('TwitterStockData.csv')\n",
    "SentimentDF = pd.read_csv('tweet_sentiment.csv')\n",
    "                          \n",
    "# merge the two data frames (tweet info and tweet sentiment) - inner join based on index\n",
    "StockSentimentDF = StockDF.merge(SentimentDF, how='inner', left_index = True, right_index=True)\n",
    "\n",
    "# create a bar graph displaying the number of neutral, positive and negative BTC tweets \n",
    "colors = ['grey','g','r']\n",
    "StockSentimentDF[StockSentimentDF.symbols == 'BTC'].sentiment.value_counts().plot.bar(color = colors, title = \"Bitcoin Tweet Sentiment\");"
   ]
  },
  {
   "cell_type": "code",
   "execution_count": null,
   "metadata": {},
   "outputs": [],
   "source": [
    "# create a bar graph displaying the number of neutral, positive and negative non-BTC tweets (Overall Market)\n",
    "StockSentimentDF[StockSentimentDF.symbols != 'BTC'].sentiment.value_counts().plot.bar(color = colors, title = \"Overall Market Tweet Sentiment\");"
   ]
  },
  {
   "cell_type": "markdown",
   "metadata": {},
   "source": [
    ">The first graph would suggest that Bitcoin sentiment is somewhat neutral (there is no real consensus), but the second graph suggests Twitter has a more optimistic view of the overall market.\n",
    "\n",
    "<br>\n",
    "\n",
    "Let's see how Bitcoin and the overall market did during the time our data was collected:"
   ]
  },
  {
   "cell_type": "code",
   "execution_count": null,
   "metadata": {},
   "outputs": [],
   "source": [
    "# calculate daily percent change in new column 'returns'\n",
    "SPY500['returns'] = SPY500['Close'].pct_change(1)\n",
    "BTC['returns'] = BTC['Close'].pct_change(1)\n",
    "\n",
    "# plot the daily returns for BTC and SPY500\n",
    "SPY500['returns'].plot(kind = 'line', title = \"Daily Returns BTC vs S&P500\", label = 'SPY500', figsize = (15,6))\n",
    "BTC['returns'].plot(kind = 'line', title = \"Daily Returns BTC vs S&P500\", label = 'BTC-USD', figsize = (15,6))\n",
    "plt.legend()\n",
    "plt.show()"
   ]
  },
  {
   "cell_type": "code",
   "execution_count": null,
   "metadata": {},
   "outputs": [],
   "source": [
    "# calculate cumulative returns in a new column ''daily_cumulative_return'\n",
    "SPY500['daily_cumulative_return'] = ( 1 + SPY500['returns'] ).cumprod()\n",
    "BTC['daily_cumulative_return'] = ( 1 + BTC['returns'] ).cumprod()\n",
    "\n",
    "# plot the cumulative returns for BTC and SPY500\n",
    "SPY500['daily_cumulative_return'].plot(label='SPY500',figsize= (16,8))\n",
    "BTC['daily_cumulative_return'].plot(label = 'BTC-USD', title = \"Cumulative Returns BTC vs S&P500\")\n",
    "plt.legend();\n",
    "plt.show()\n"
   ]
  },
  {
   "cell_type": "markdown",
   "metadata": {},
   "source": [
    ">### Results\n",
    ">While the overall market (the SPY500) did outperform Bitcoin during the timeframe our data was collected, neither performed particularly well. The first graph shows us that bitcoin is much more volatile over this period and the second graph shows us that both investments would result in a net loss over this time period."
   ]
  },
  {
   "cell_type": "markdown",
   "metadata": {},
   "source": [
    "<a id='FinalThoughtsMarket'></a>\n",
    "## Final Thoughts\n",
    "\n",
    "There are a lot of factors when it comes to pricing equities, and so it has been difficult to determine whether there is any correlation between our tweet sentiment data and stock prices. We worry about the accuracy of the sentiment analysis data we collected - sentiment analysis is a tricky thing to do with a high degree of accuracy. We will continue to scrape more data because we think our project is currently limited by the amount of data resources we have been able to find. We also would like to use the Granger causality test to gauge the likelihood that our data has any relationship with stock market trends."
   ]
  }
 ],
 "metadata": {
  "kernelspec": {
   "display_name": "Python 3",
   "language": "python",
   "name": "python3"
  },
  "language_info": {
   "codemirror_mode": {
    "name": "ipython",
    "version": 3
   },
   "file_extension": ".py",
   "mimetype": "text/x-python",
   "name": "python",
   "nbconvert_exporter": "python",
   "pygments_lexer": "ipython3",
   "version": "3.7.6"
  },
  "toc": {
   "base_numbering": 1,
   "nav_menu": {},
   "number_sections": true,
   "sideBar": true,
   "skip_h1_title": false,
   "title_cell": "Table of Contents",
   "title_sidebar": "Contents",
   "toc_cell": true,
   "toc_position": {},
   "toc_section_display": true,
   "toc_window_display": false
  }
 },
 "nbformat": 4,
 "nbformat_minor": 4
}
