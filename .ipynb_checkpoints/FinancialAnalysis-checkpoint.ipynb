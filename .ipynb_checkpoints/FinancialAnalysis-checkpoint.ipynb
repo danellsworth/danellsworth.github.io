{
 "cells": [
  {
   "cell_type": "markdown",
   "metadata": {},
   "source": [
    "Link to website: https://danellsworth.github.io/"
   ]
  },
  {
   "cell_type": "markdown",
   "metadata": {},
   "source": [
    "## Milestone 1 - Financial Sentiment Analysis"
   ]
  },
  {
   "cell_type": "markdown",
   "metadata": {},
   "source": [
    "Dan Ellsworth and Alden Pratt\n",
    "\n",
    "> For our Final Tutorial Project, we will be examining the effectiveness of using sentiment analysis based on Twitter posts relating to publicly traded companies as a leading or lagging indicator of the stock price.  Fluctuations in stock prices can be largely attributed to changes in the attitude of its buyers and holders. As such, platforms in which people are allowed to freely voice their attitude toward a company, such as Twitter, can be influential for a broad audience of traders.  If a particular authority voices optimism regarding the future of a company’s stock, and enough people are convinced into buying, its stock price will increase to meet the increased demand.  Conversely, authority figures voicing pessimism generally results in a lower price.  We will be using company sentiment data from Twitter to see if there is a significant correlation between community sentiment and the change in the stock price. \n",
    "> Through studying this issue, several questions arise.  We are curious to know if sentiment generally follows stock prices or if stock prices follow sentiment. In other words, should we be looking at sentiment as a leading or lagging indicator of stock prices?  Who is influential?  Are some companies intrinsically more or less resistant to changes in sentiment?  Can our findings be used in developing a complete and profitable trading strategy?  \n",
    "    \n",
    "Below are a couple of data sets containing sentiment analysis for various companies:\n",
    "   >  https://www.kaggle.com/vivekrathi055/sentiment-analysis-on-financial-tweets \n",
    "   >  https://www.kaggle.com/yash612/stockmarket-sentiment-dataset\n",
    "    \n",
    "> To determine the effects that Twitter posts have on stock prices, we plan on combining one of these data sets with historical stock price data that can be pulled from Yahoo Finance.  Yahoo Finance provides data for stock price fluctuations for every company and every day.  We expect that the changes in public sentiment over time will somewhat mirror the changes in the stock price as provided by Yahoo Finance.    \n",
    "\n"
   ]
  },
  {
   "cell_type": "markdown",
   "metadata": {},
   "source": [
    "## Collaboration Plan"
   ]
  },
  {
   "cell_type": "markdown",
   "metadata": {},
   "source": [
    "> We have and will continue to meet via Zoom biweekly, and possibly more frequently as needed to satisfy approaching deadlines. We acknowledge that this will likely change depending on what phase of the project we are in.\n",
    "\n",
    "### Technologies:\n",
    "- Github to coordinate code\n",
    "- Shared Google Docs for write ups\n",
    "- Twitter API\n",
    "- RapidAPI (For Yahoo Finance data)\n",
    "\n",
    "\n",
    "\n",
    "\n",
    "\n"
   ]
  },
  {
   "cell_type": "markdown",
   "metadata": {},
   "source": [
    "### Setup up and import necessary libraries"
   ]
  },
  {
   "cell_type": "code",
   "execution_count": 1,
   "metadata": {},
   "outputs": [
    {
     "name": "stderr",
     "output_type": "stream",
     "text": [
      "C:\\Users\\Danel\\anaconda3\\lib\\site-packages\\pandas_datareader\\compat\\__init__.py:7: FutureWarning: pandas.util.testing is deprecated. Use the functions in the public API at pandas.testing instead.\n",
      "  from pandas.util.testing import assert_frame_equal\n"
     ]
    }
   ],
   "source": [
    "import pandas as pd\n",
    "import matplotlib.pyplot as plt\n",
    "import pandas_datareader.data as web\n",
    "import datetime\n",
    "import yfinance as yf\n",
    "import quandl\n",
    "%matplotlib inline"
   ]
  },
  {
   "cell_type": "markdown",
   "metadata": {},
   "source": [
    "### Extracting Data"
   ]
  },
  {
   "cell_type": "code",
   "execution_count": 2,
   "metadata": {},
   "outputs": [
    {
     "data": {
      "text/html": [
       "<div>\n",
       "<style scoped>\n",
       "    .dataframe tbody tr th:only-of-type {\n",
       "        vertical-align: middle;\n",
       "    }\n",
       "\n",
       "    .dataframe tbody tr th {\n",
       "        vertical-align: top;\n",
       "    }\n",
       "\n",
       "    .dataframe thead th {\n",
       "        text-align: right;\n",
       "    }\n",
       "</style>\n",
       "<table border=\"1\" class=\"dataframe\">\n",
       "  <thead>\n",
       "    <tr style=\"text-align: right;\">\n",
       "      <th></th>\n",
       "      <th>text</th>\n",
       "      <th>timestamp</th>\n",
       "      <th>source</th>\n",
       "      <th>symbols</th>\n",
       "      <th>company_names</th>\n",
       "      <th>url</th>\n",
       "      <th>verified</th>\n",
       "    </tr>\n",
       "  </thead>\n",
       "  <tbody>\n",
       "    <tr>\n",
       "      <th>0</th>\n",
       "      <td>VIDEO: “I was in my office. I was minding my o...</td>\n",
       "      <td>Wed Jul 18 21:33:26 +0000 2018</td>\n",
       "      <td>GoldmanSachs</td>\n",
       "      <td>GS</td>\n",
       "      <td>The Goldman Sachs</td>\n",
       "      <td>https://twitter.com/i/web/status/1019696670777...</td>\n",
       "      <td>TRUE</td>\n",
       "    </tr>\n",
       "    <tr>\n",
       "      <th>1</th>\n",
       "      <td>The price of lumber $LB_F is down 22% since hi...</td>\n",
       "      <td>Wed Jul 18 22:22:47 +0000 2018</td>\n",
       "      <td>StockTwits</td>\n",
       "      <td>M</td>\n",
       "      <td>Macy's</td>\n",
       "      <td>https://twitter.com/i/web/status/1019709091038...</td>\n",
       "      <td>TRUE</td>\n",
       "    </tr>\n",
       "    <tr>\n",
       "      <th>2</th>\n",
       "      <td>Who says the American Dream is dead? https://t...</td>\n",
       "      <td>Wed Jul 18 22:32:01 +0000 2018</td>\n",
       "      <td>TheStreet</td>\n",
       "      <td>AIG</td>\n",
       "      <td>American</td>\n",
       "      <td>https://buff.ly/2L3kmc4</td>\n",
       "      <td>TRUE</td>\n",
       "    </tr>\n",
       "    <tr>\n",
       "      <th>3</th>\n",
       "      <td>Barry Silbert is extremely optimistic on bitco...</td>\n",
       "      <td>Wed Jul 18 22:52:52 +0000 2018</td>\n",
       "      <td>MarketWatch</td>\n",
       "      <td>BTC</td>\n",
       "      <td>Bitcoin</td>\n",
       "      <td>https://twitter.com/i/web/status/1019716662587...</td>\n",
       "      <td>TRUE</td>\n",
       "    </tr>\n",
       "    <tr>\n",
       "      <th>4</th>\n",
       "      <td>How satellites avoid attacks and space junk wh...</td>\n",
       "      <td>Wed Jul 18 23:00:01 +0000 2018</td>\n",
       "      <td>Forbes</td>\n",
       "      <td>ORCL</td>\n",
       "      <td>Oracle</td>\n",
       "      <td>http://on.forbes.com/6013DqDDU</td>\n",
       "      <td>TRUE</td>\n",
       "    </tr>\n",
       "  </tbody>\n",
       "</table>\n",
       "</div>"
      ],
      "text/plain": [
       "                                                text  \\\n",
       "0  VIDEO: “I was in my office. I was minding my o...   \n",
       "1  The price of lumber $LB_F is down 22% since hi...   \n",
       "2  Who says the American Dream is dead? https://t...   \n",
       "3  Barry Silbert is extremely optimistic on bitco...   \n",
       "4  How satellites avoid attacks and space junk wh...   \n",
       "\n",
       "                        timestamp        source symbols      company_names  \\\n",
       "0  Wed Jul 18 21:33:26 +0000 2018  GoldmanSachs      GS  The Goldman Sachs   \n",
       "1  Wed Jul 18 22:22:47 +0000 2018    StockTwits       M             Macy's   \n",
       "2  Wed Jul 18 22:32:01 +0000 2018     TheStreet     AIG           American   \n",
       "3  Wed Jul 18 22:52:52 +0000 2018   MarketWatch     BTC            Bitcoin   \n",
       "4  Wed Jul 18 23:00:01 +0000 2018        Forbes    ORCL             Oracle   \n",
       "\n",
       "                                                 url verified  \n",
       "0  https://twitter.com/i/web/status/1019696670777...     TRUE  \n",
       "1  https://twitter.com/i/web/status/1019709091038...     TRUE  \n",
       "2                            https://buff.ly/2L3kmc4     TRUE  \n",
       "3  https://twitter.com/i/web/status/1019716662587...     TRUE  \n",
       "4                     http://on.forbes.com/6013DqDDU     TRUE  "
      ]
     },
     "execution_count": 2,
     "metadata": {},
     "output_type": "execute_result"
    }
   ],
   "source": [
    "# read the data from csv files\n",
    "StockDF = pd.read_csv('TwitterStockData.csv')\n",
    "SentimentDF = pd.read_csv('tweet_sentiment.csv')\n",
    "\n",
    "# declare start and end date for financial data\n",
    "start = datetime.datetime(2018,7,17)\n",
    "end = datetime.datetime(2018,10,25)\n",
    "\n",
    "# read S&P500 data for declared dates\n",
    "SPY500 = web.DataReader('SPY', 'yahoo', start, end)\n",
    "BTC = web.DataReader('BTC-USD', 'yahoo', start, end)\n",
    "\n",
    "StockDF.head()\n"
   ]
  },
  {
   "cell_type": "code",
   "execution_count": 3,
   "metadata": {},
   "outputs": [
    {
     "data": {
      "text/html": [
       "<div>\n",
       "<style scoped>\n",
       "    .dataframe tbody tr th:only-of-type {\n",
       "        vertical-align: middle;\n",
       "    }\n",
       "\n",
       "    .dataframe tbody tr th {\n",
       "        vertical-align: top;\n",
       "    }\n",
       "\n",
       "    .dataframe thead th {\n",
       "        text-align: right;\n",
       "    }\n",
       "</style>\n",
       "<table border=\"1\" class=\"dataframe\">\n",
       "  <thead>\n",
       "    <tr style=\"text-align: right;\">\n",
       "      <th></th>\n",
       "      <th>cleaned_tweets</th>\n",
       "      <th>sentiment</th>\n",
       "    </tr>\n",
       "  </thead>\n",
       "  <tbody>\n",
       "    <tr>\n",
       "      <th>0</th>\n",
       "      <td>video offic mind busi david solomon tell gs in...</td>\n",
       "      <td>0</td>\n",
       "    </tr>\n",
       "    <tr>\n",
       "      <th>1</th>\n",
       "      <td>price lumber lb f sinc hit ytd high maci turna...</td>\n",
       "      <td>0</td>\n",
       "    </tr>\n",
       "    <tr>\n",
       "      <th>2</th>\n",
       "      <td>say american dream dead</td>\n",
       "      <td>-1</td>\n",
       "    </tr>\n",
       "    <tr>\n",
       "      <th>3</th>\n",
       "      <td>barri silbert extrem optimist bitcoin predict ...</td>\n",
       "      <td>1</td>\n",
       "    </tr>\n",
       "    <tr>\n",
       "      <th>4</th>\n",
       "      <td>satellit avoid attack space junk circl earth paid</td>\n",
       "      <td>-1</td>\n",
       "    </tr>\n",
       "  </tbody>\n",
       "</table>\n",
       "</div>"
      ],
      "text/plain": [
       "                                      cleaned_tweets  sentiment\n",
       "0  video offic mind busi david solomon tell gs in...          0\n",
       "1  price lumber lb f sinc hit ytd high maci turna...          0\n",
       "2                            say american dream dead         -1\n",
       "3  barri silbert extrem optimist bitcoin predict ...          1\n",
       "4  satellit avoid attack space junk circl earth paid         -1"
      ]
     },
     "execution_count": 3,
     "metadata": {},
     "output_type": "execute_result"
    }
   ],
   "source": [
    "SentimentDF.head()"
   ]
  },
  {
   "cell_type": "code",
   "execution_count": 4,
   "metadata": {},
   "outputs": [
    {
     "data": {
      "text/html": [
       "<div>\n",
       "<style scoped>\n",
       "    .dataframe tbody tr th:only-of-type {\n",
       "        vertical-align: middle;\n",
       "    }\n",
       "\n",
       "    .dataframe tbody tr th {\n",
       "        vertical-align: top;\n",
       "    }\n",
       "\n",
       "    .dataframe thead th {\n",
       "        text-align: right;\n",
       "    }\n",
       "</style>\n",
       "<table border=\"1\" class=\"dataframe\">\n",
       "  <thead>\n",
       "    <tr style=\"text-align: right;\">\n",
       "      <th></th>\n",
       "      <th>High</th>\n",
       "      <th>Low</th>\n",
       "      <th>Open</th>\n",
       "      <th>Close</th>\n",
       "      <th>Volume</th>\n",
       "      <th>Adj Close</th>\n",
       "    </tr>\n",
       "    <tr>\n",
       "      <th>Date</th>\n",
       "      <th></th>\n",
       "      <th></th>\n",
       "      <th></th>\n",
       "      <th></th>\n",
       "      <th></th>\n",
       "      <th></th>\n",
       "    </tr>\n",
       "  </thead>\n",
       "  <tbody>\n",
       "    <tr>\n",
       "      <th>2018-07-17</th>\n",
       "      <td>280.910004</td>\n",
       "      <td>278.410004</td>\n",
       "      <td>278.470001</td>\n",
       "      <td>280.470001</td>\n",
       "      <td>52315500.0</td>\n",
       "      <td>268.572174</td>\n",
       "    </tr>\n",
       "    <tr>\n",
       "      <th>2018-07-18</th>\n",
       "      <td>281.179993</td>\n",
       "      <td>280.059998</td>\n",
       "      <td>280.559998</td>\n",
       "      <td>281.059998</td>\n",
       "      <td>44593500.0</td>\n",
       "      <td>269.137207</td>\n",
       "    </tr>\n",
       "    <tr>\n",
       "      <th>2018-07-19</th>\n",
       "      <td>280.739990</td>\n",
       "      <td>279.459991</td>\n",
       "      <td>280.309998</td>\n",
       "      <td>280.000000</td>\n",
       "      <td>61412100.0</td>\n",
       "      <td>268.122101</td>\n",
       "    </tr>\n",
       "    <tr>\n",
       "      <th>2018-07-20</th>\n",
       "      <td>280.480011</td>\n",
       "      <td>279.500000</td>\n",
       "      <td>279.769989</td>\n",
       "      <td>279.679993</td>\n",
       "      <td>82337700.0</td>\n",
       "      <td>267.815704</td>\n",
       "    </tr>\n",
       "    <tr>\n",
       "      <th>2018-07-23</th>\n",
       "      <td>280.429993</td>\n",
       "      <td>279.059998</td>\n",
       "      <td>279.450012</td>\n",
       "      <td>280.200012</td>\n",
       "      <td>47047600.0</td>\n",
       "      <td>268.313629</td>\n",
       "    </tr>\n",
       "  </tbody>\n",
       "</table>\n",
       "</div>"
      ],
      "text/plain": [
       "                  High         Low        Open       Close      Volume  \\\n",
       "Date                                                                     \n",
       "2018-07-17  280.910004  278.410004  278.470001  280.470001  52315500.0   \n",
       "2018-07-18  281.179993  280.059998  280.559998  281.059998  44593500.0   \n",
       "2018-07-19  280.739990  279.459991  280.309998  280.000000  61412100.0   \n",
       "2018-07-20  280.480011  279.500000  279.769989  279.679993  82337700.0   \n",
       "2018-07-23  280.429993  279.059998  279.450012  280.200012  47047600.0   \n",
       "\n",
       "             Adj Close  \n",
       "Date                    \n",
       "2018-07-17  268.572174  \n",
       "2018-07-18  269.137207  \n",
       "2018-07-19  268.122101  \n",
       "2018-07-20  267.815704  \n",
       "2018-07-23  268.313629  "
      ]
     },
     "execution_count": 4,
     "metadata": {},
     "output_type": "execute_result"
    }
   ],
   "source": [
    "SPY500.head()"
   ]
  },
  {
   "cell_type": "markdown",
   "metadata": {},
   "source": [
    "## Tidying Data\n",
    "\n",
    "> The data we have used here was conveniently formatted in a way that did not require much altering. The data from Kaggle contained two separate CSV files. One for tweet information, and another for sentiment scores for cleaned tweets (a cleaned tweet omits unimportant words). Since sentiment scores are different from tweet information, this is exactly how we hoped the tables would be formatted. We can combine the two tables based on the indexes, as we do below:"
   ]
  },
  {
   "cell_type": "code",
   "execution_count": 5,
   "metadata": {},
   "outputs": [],
   "source": [
    "# merge the two data frames (tweet info and tweet sentiment) - inner join based on index\n",
    "StockSentimentDF = StockDF.merge(SentimentDF, how='inner', left_index = True, right_index=True)"
   ]
  },
  {
   "cell_type": "markdown",
   "metadata": {},
   "source": [
    "## Scrapping Additional Data \n",
    ">We wanted to use additional data so we scrapped data using the Python Yahoo! Finance library. This allows us to add useful info such as stock price movements (in the days following the tweet), tweet date as a datetime object, and the stock's sector. Using Yahoo Finance to scrape is extremely time-intensive, so we ran it on small subsets of our data and appended the results to a CSV file stored in local storage. This way we can read a CSV file in local storage instead of repeatedly scraping. To demonstrate the web scraping, we left the following example using the first ten entities:\n"
   ]
  },
  {
   "cell_type": "code",
   "execution_count": 6,
   "metadata": {},
   "outputs": [
    {
     "name": "stdout",
     "output_type": "stream",
     "text": [
      "[*********************100%***********************]  1 of 1 completed\n",
      "[*********************100%***********************]  1 of 1 completed\n",
      "[*********************100%***********************]  1 of 1 completed\n",
      "[*********************100%***********************]  1 of 1 completed\n",
      "\n",
      "1 Failed download:\n",
      "- BTC: No data found for this date range, symbol may be delisted\n",
      "[*********************100%***********************]  1 of 1 completed\n",
      "[*********************100%***********************]  1 of 1 completed\n",
      "\n",
      "1 Failed download:\n",
      "- HRS: No data found, symbol may be delisted\n",
      "[*********************100%***********************]  1 of 1 completed\n",
      "[*********************100%***********************]  1 of 1 completed\n",
      "\n",
      "1 Failed download:\n",
      "- BTC: No data found for this date range, symbol may be delisted\n",
      "[*********************100%***********************]  1 of 1 completed\n",
      "[*********************100%***********************]  1 of 1 completed\n",
      "[*********************100%***********************]  1 of 1 completed\n",
      "[*********************100%***********************]  1 of 1 completed\n",
      "\n",
      "1 Failed download:\n",
      "- BTC: No data found for this date range, symbol may be delisted\n",
      "[*********************100%***********************]  1 of 1 completed\n",
      "[*********************100%***********************]  1 of 1 completed\n",
      "\n",
      "1 Failed download:\n",
      "- HRS: No data found, symbol may be delisted\n",
      "[*********************100%***********************]  1 of 1 completed\n",
      "[*********************100%***********************]  1 of 1 completed\n",
      "\n",
      "1 Failed download:\n",
      "- BTC: No data found for this date range, symbol may be delisted\n"
     ]
    }
   ],
   "source": [
    "StockSentimentDF = StockSentimentDF.head(10)\n",
    "\n",
    "def getStockData(symbol, date):\n",
    "        if not \"-\" in symbol:\n",
    "            t = yf.download(symbol, start=date, end=date + datetime.timedelta(days=1))\n",
    "            if t.size > 0:\n",
    "                perc_change = (t[\"Open\"].iloc[0] - t[\"Close\"].iloc[0] ) / t[\"Open\"].iloc[0]  * 100\n",
    "                return perc_change\n",
    "            return None\n",
    "        else:\n",
    "            return None\n",
    "        \n",
    "def getSector(symbol):\n",
    "    try:\n",
    "        ticker = yf.Ticker(symbol)\n",
    "        c = ticker.info['sector']\n",
    "        return c\n",
    "    except:\n",
    "        return None\n",
    "    \n",
    "def tweetDate(timestamp):\n",
    "    t = datetime.datetime.strptime(timestamp, \"%a %b %d %H:%M:%S +0000 %Y\")\n",
    "    return t.date()\n",
    "\n",
    "StockSentimentDF[\"date\"] = StockSentimentDF.apply(lambda row: tweetDate(row[\"timestamp\"]), axis = 1)\n",
    "\n",
    "StockSentimentDF[\"perc_change\"] = StockSentimentDF.apply(lambda row: getStockData(row[\"symbols\"], row[\"date\"]), axis = 1)\n",
    "StockSentimentDF[\"NextDay_perc_change\"] = StockSentimentDF.apply(lambda row: getStockData(row[\"symbols\"], row[\"date\"] + datetime.timedelta(days=1)), axis = 1)\n",
    "StockSentimentDF[\"sector\"] = StockSentimentDF.apply(lambda row: getSector(row[\"symbols\"]), axis = 1)"
   ]
  },
  {
   "cell_type": "markdown",
   "metadata": {},
   "source": [
    "Note: Many of the observations will return 'failed to download' because most of our data is from 2018 and many ticker symbols have changed or been delisted.\n",
    "\n",
    "<br>\n",
    "\n",
    "Our data table now appears in the following format:"
   ]
  },
  {
   "cell_type": "code",
   "execution_count": 7,
   "metadata": {},
   "outputs": [
    {
     "data": {
      "text/html": [
       "<div>\n",
       "<style scoped>\n",
       "    .dataframe tbody tr th:only-of-type {\n",
       "        vertical-align: middle;\n",
       "    }\n",
       "\n",
       "    .dataframe tbody tr th {\n",
       "        vertical-align: top;\n",
       "    }\n",
       "\n",
       "    .dataframe thead th {\n",
       "        text-align: right;\n",
       "    }\n",
       "</style>\n",
       "<table border=\"1\" class=\"dataframe\">\n",
       "  <thead>\n",
       "    <tr style=\"text-align: right;\">\n",
       "      <th></th>\n",
       "      <th>text</th>\n",
       "      <th>timestamp</th>\n",
       "      <th>source</th>\n",
       "      <th>symbols</th>\n",
       "      <th>company_names</th>\n",
       "      <th>url</th>\n",
       "      <th>verified</th>\n",
       "      <th>cleaned_tweets</th>\n",
       "      <th>sentiment</th>\n",
       "      <th>date</th>\n",
       "      <th>perc_change</th>\n",
       "      <th>NextDay_perc_change</th>\n",
       "      <th>sector</th>\n",
       "    </tr>\n",
       "  </thead>\n",
       "  <tbody>\n",
       "    <tr>\n",
       "      <th>0</th>\n",
       "      <td>VIDEO: “I was in my office. I was minding my o...</td>\n",
       "      <td>Wed Jul 18 21:33:26 +0000 2018</td>\n",
       "      <td>GoldmanSachs</td>\n",
       "      <td>GS</td>\n",
       "      <td>The Goldman Sachs</td>\n",
       "      <td>https://twitter.com/i/web/status/1019696670777...</td>\n",
       "      <td>TRUE</td>\n",
       "      <td>video offic mind busi david solomon tell gs in...</td>\n",
       "      <td>0</td>\n",
       "      <td>2018-07-18</td>\n",
       "      <td>0.473440</td>\n",
       "      <td>0.640386</td>\n",
       "      <td>Financial Services</td>\n",
       "    </tr>\n",
       "    <tr>\n",
       "      <th>1</th>\n",
       "      <td>The price of lumber $LB_F is down 22% since hi...</td>\n",
       "      <td>Wed Jul 18 22:22:47 +0000 2018</td>\n",
       "      <td>StockTwits</td>\n",
       "      <td>M</td>\n",
       "      <td>Macy's</td>\n",
       "      <td>https://twitter.com/i/web/status/1019709091038...</td>\n",
       "      <td>TRUE</td>\n",
       "      <td>price lumber lb f sinc hit ytd high maci turna...</td>\n",
       "      <td>0</td>\n",
       "      <td>2018-07-18</td>\n",
       "      <td>-1.425888</td>\n",
       "      <td>-3.096052</td>\n",
       "      <td>Consumer Cyclical</td>\n",
       "    </tr>\n",
       "    <tr>\n",
       "      <th>2</th>\n",
       "      <td>Who says the American Dream is dead? https://t...</td>\n",
       "      <td>Wed Jul 18 22:32:01 +0000 2018</td>\n",
       "      <td>TheStreet</td>\n",
       "      <td>AIG</td>\n",
       "      <td>American</td>\n",
       "      <td>https://buff.ly/2L3kmc4</td>\n",
       "      <td>TRUE</td>\n",
       "      <td>say american dream dead</td>\n",
       "      <td>-1</td>\n",
       "      <td>2018-07-18</td>\n",
       "      <td>-0.859863</td>\n",
       "      <td>1.912574</td>\n",
       "      <td>Financial Services</td>\n",
       "    </tr>\n",
       "    <tr>\n",
       "      <th>3</th>\n",
       "      <td>Barry Silbert is extremely optimistic on bitco...</td>\n",
       "      <td>Wed Jul 18 22:52:52 +0000 2018</td>\n",
       "      <td>MarketWatch</td>\n",
       "      <td>BTC</td>\n",
       "      <td>Bitcoin</td>\n",
       "      <td>https://twitter.com/i/web/status/1019716662587...</td>\n",
       "      <td>TRUE</td>\n",
       "      <td>barri silbert extrem optimist bitcoin predict ...</td>\n",
       "      <td>1</td>\n",
       "      <td>2018-07-18</td>\n",
       "      <td>NaN</td>\n",
       "      <td>NaN</td>\n",
       "      <td>None</td>\n",
       "    </tr>\n",
       "    <tr>\n",
       "      <th>4</th>\n",
       "      <td>How satellites avoid attacks and space junk wh...</td>\n",
       "      <td>Wed Jul 18 23:00:01 +0000 2018</td>\n",
       "      <td>Forbes</td>\n",
       "      <td>ORCL</td>\n",
       "      <td>Oracle</td>\n",
       "      <td>http://on.forbes.com/6013DqDDU</td>\n",
       "      <td>TRUE</td>\n",
       "      <td>satellit avoid attack space junk circl earth paid</td>\n",
       "      <td>-1</td>\n",
       "      <td>2018-07-18</td>\n",
       "      <td>0.307443</td>\n",
       "      <td>-0.082639</td>\n",
       "      <td>Technology</td>\n",
       "    </tr>\n",
       "  </tbody>\n",
       "</table>\n",
       "</div>"
      ],
      "text/plain": [
       "                                                text  \\\n",
       "0  VIDEO: “I was in my office. I was minding my o...   \n",
       "1  The price of lumber $LB_F is down 22% since hi...   \n",
       "2  Who says the American Dream is dead? https://t...   \n",
       "3  Barry Silbert is extremely optimistic on bitco...   \n",
       "4  How satellites avoid attacks and space junk wh...   \n",
       "\n",
       "                        timestamp        source symbols      company_names  \\\n",
       "0  Wed Jul 18 21:33:26 +0000 2018  GoldmanSachs      GS  The Goldman Sachs   \n",
       "1  Wed Jul 18 22:22:47 +0000 2018    StockTwits       M             Macy's   \n",
       "2  Wed Jul 18 22:32:01 +0000 2018     TheStreet     AIG           American   \n",
       "3  Wed Jul 18 22:52:52 +0000 2018   MarketWatch     BTC            Bitcoin   \n",
       "4  Wed Jul 18 23:00:01 +0000 2018        Forbes    ORCL             Oracle   \n",
       "\n",
       "                                                 url verified  \\\n",
       "0  https://twitter.com/i/web/status/1019696670777...     TRUE   \n",
       "1  https://twitter.com/i/web/status/1019709091038...     TRUE   \n",
       "2                            https://buff.ly/2L3kmc4     TRUE   \n",
       "3  https://twitter.com/i/web/status/1019716662587...     TRUE   \n",
       "4                     http://on.forbes.com/6013DqDDU     TRUE   \n",
       "\n",
       "                                      cleaned_tweets  sentiment        date  \\\n",
       "0  video offic mind busi david solomon tell gs in...          0  2018-07-18   \n",
       "1  price lumber lb f sinc hit ytd high maci turna...          0  2018-07-18   \n",
       "2                            say american dream dead         -1  2018-07-18   \n",
       "3  barri silbert extrem optimist bitcoin predict ...          1  2018-07-18   \n",
       "4  satellit avoid attack space junk circl earth paid         -1  2018-07-18   \n",
       "\n",
       "   perc_change  NextDay_perc_change              sector  \n",
       "0     0.473440             0.640386  Financial Services  \n",
       "1    -1.425888            -3.096052   Consumer Cyclical  \n",
       "2    -0.859863             1.912574  Financial Services  \n",
       "3          NaN                  NaN                None  \n",
       "4     0.307443            -0.082639          Technology  "
      ]
     },
     "execution_count": 7,
     "metadata": {},
     "output_type": "execute_result"
    }
   ],
   "source": [
    "StockSentimentDF.head()"
   ]
  },
  {
   "cell_type": "code",
   "execution_count": 8,
   "metadata": {},
   "outputs": [],
   "source": [
    "# read the data we have already scraped and saved locally\n",
    "StockSentimentDF = pd.read_csv('WebScrapedStockData.csv')\n",
    "StockSentimentDF['date'] = pd.to_datetime(StockSentimentDF['date']) #change date column to datetime object"
   ]
  },
  {
   "cell_type": "markdown",
   "metadata": {},
   "source": [
    "## Exploratory Data Analysis"
   ]
  },
  {
   "cell_type": "markdown",
   "metadata": {},
   "source": [
    "### Stock Sectors\n",
    "> First, we looked at the sector of stocks mentioned in our Twitter data.  Our distribution contains several different sectors, which means that users on Twitter are interested in a very diverse set of stocks."
   ]
  },
  {
   "cell_type": "code",
   "execution_count": 9,
   "metadata": {},
   "outputs": [
    {
     "data": {
      "image/png": "[encoded data removed]",
      "text/plain": [
       "<Figure size 432x288 with 1 Axes>"
      ]
     },
     "metadata": {
      "needs_background": "light"
     },
     "output_type": "display_data"
    }
   ],
   "source": [
    "e = StockSentimentDF.groupby(['sector']).count()\n",
    "e[\"text\"].plot.bar()\n",
    "\n",
    "# look at sector etf data\n",
    "SPY500 = web.DataReader('SPY', 'yahoo', start, end)\n",
    "BTC = web.DataReader('BTC-USD', 'yahoo', start, end)"
   ]
  },
  {
   "cell_type": "markdown",
   "metadata": {},
   "source": [
    "## Gauging Sector Sentiment\n",
    "We can attempt to gauge if tweet sentiment grouped by sector helps us determine trends in various sectors. The ETF's we will use to measure performance are the following:\n",
    "\n",
    "- Energy: XLE\n",
    "- Materials: XLB\n",
    "- Industrials: XLI\n",
    "- Consumer Discretionary: XLY\n",
    "- Consumer Staples: XLP\n",
    "- Health Care: XLV\n",
    "- Financials: XLF\n",
    "- Information Technology: SMH\n",
    "- Telecommunication Services: XTL\n",
    "- Utilities: XLU\n",
    "- Real Estate: IYR \n",
    "\n",
    "First, we determine what our data says about various sectors by summing the net sentiment analysis for each sector:"
   ]
  },
  {
   "cell_type": "code",
   "execution_count": 11,
   "metadata": {},
   "outputs": [
    {
     "name": "stdout",
     "output_type": "stream",
     "text": [
      "sector\n",
      "Basic Materials            73\n",
      "Communication Services      8\n",
      "Consumer Cyclical         141\n",
      "Consumer Defensive         58\n",
      "Energy                     64\n",
      "Financial Services         85\n",
      "Healthcare                115\n",
      "Industrials               102\n",
      "Real Estate                63\n",
      "Technology                110\n",
      "Utilities                  37\n",
      "Name: sentiment, dtype: int64\n"
     ]
    },
    {
     "data": {
      "image/png": "[encoded data removed]",
      "text/plain": [
       "<Figure size 432x288 with 1 Axes>"
      ]
     },
     "metadata": {
      "needs_background": "light"
     },
     "output_type": "display_data"
    }
   ],
   "source": [
    "# bar plot of the net sentiment value for each sector\n",
    "StockSentimentDF.groupby(['sector']).sentiment.sum().plot.bar();\n",
    "plt.ylabel('Net Sentiment Score')\n",
    "\n",
    "# print total sentiment score table - Notice they are all positive\n",
    "print(StockSentimentDF.groupby(['sector']).sentiment.sum())"
   ]
  },
  {
   "cell_type": "markdown",
   "metadata": {},
   "source": [
    "Note: Notice how all the sectors have a net positive sentiment score. This might mean a couple of things:\n",
    ">1. The market is healthy across most sectors at this time (possibly some healthier than others)\n",
    ">2. The algorithm used to calculate sentiment is not accurate (biased in thinking tweets are positive)\n",
    ">3. People generally tweet more about positive things than negative things\n",
    "\n",
    ">This warrants further investigation for the final deliverable.\n",
    "\n",
    "We know from the previous section that the distribution of tweets by sector is not evenly distributed (i.e. there are more than 600 tweets about healthcare and consumer cyclical companies and less than 100 tweets regarding communication services). Thus, it is probably better to look at the mean sentiment analysis by each sector:"
   ]
  },
  {
   "cell_type": "code",
   "execution_count": 18,
   "metadata": {},
   "outputs": [
    {
     "data": {
      "image/png": "[encoded data removed]",
      "text/plain": [
       "<Figure size 432x288 with 1 Axes>"
      ]
     },
     "metadata": {
      "needs_background": "light"
     },
     "output_type": "display_data"
    }
   ],
   "source": [
    "StockSentimentDF.groupby(['sector']).sentiment.mean().plot.bar();\n",
    "plt.ylabel('Net Sentiment Score')\n",
    "plt.show();"
   ]
  },
  {
   "cell_type": "markdown",
   "metadata": {},
   "source": [
    "Now we record info on the specified ETF's that relate to each sector:"
   ]
  },
  {
   "cell_type": "code",
   "execution_count": 20,
   "metadata": {},
   "outputs": [],
   "source": [
    "# Common ETF's we will use to compare against tweet sentiment grouped by financial sector\n",
    "ETFs = ['XLE', 'XLB', 'XLI', 'XLY', 'XLP', 'XLV', 'XLF', 'SMH', 'XTL', 'XLU', 'IYR']\n",
    "\n",
    "# for each etf, grab the data for the desired dates\n",
    "for etf in ETFs:\n",
    "    locals()[etf] = web.DataReader(etf, 'yahoo', start, end) # save price information to local variable with name of ETF"
   ]
  },
  {
   "cell_type": "markdown",
   "metadata": {},
   "source": [
    "### Comparing Sector ETF Returns\n",
    "We saw in the previous section that the Consumer Cyclical and Healthcare sectors seem to have a positive sentiment on Twitter. Communications and Utilities appear to be lagging in terms of tweet sentiment (more neutral). We first calculate the returns for these sectors using the ETF's described above, and then we compare the distribution of these sectors returns using a histogram and a kernel density plot.\n"
   ]
  },
  {
   "cell_type": "code",
   "execution_count": 25,
   "metadata": {},
   "outputs": [
    {
     "data": {
      "image/png": "[encoded data removed]",
      "text/plain": [
       "<Figure size 720x576 with 1 Axes>"
      ]
     },
     "metadata": {
      "needs_background": "light"
     },
     "output_type": "display_data"
    },
    {
     "data": {
      "image/png": "[encoded data removed]",
      "text/plain": [
       "<Figure size 720x576 with 1 Axes>"
      ]
     },
     "metadata": {
      "needs_background": "light"
     },
     "output_type": "display_data"
    }
   ],
   "source": [
    "# Calculate returns for positive sentiment sectors\n",
    "XLY['Returns'] = (XLY['Close'] / XLY['Close'].shift(1)) - 1 # Consumer Cyclical\n",
    "XLV['Returns'] = (XLV['Close'] / XLV['Close'].shift(1)) - 1 # Healthcare\n",
    "\n",
    "# Calculate returns for the more neutral sentiment sectors\n",
    "XTL['Returns'] = (XTL['Close'] / XTL['Close'].shift(1)) - 1 # Communications\n",
    "XLU['Returns'] = (XLU['Close'] / XLU['Close'].shift(1)) - 1 # Utilities\n",
    "\n",
    "# alternative method: XLU['Returns'] = XLU['Close'].pct_change(1)\n",
    "\n",
    "XLY['Returns'].hist(bins=20, label = 'Consumer Cyclical Sector', figsize = (10,8), alpha = 0.5)\n",
    "XLV['Returns'].hist(bins=20, label = 'Healthcare Sector', figsize = (10,8), alpha = 0.5)\n",
    "XTL['Returns'].hist(bins=20, label = 'Communications Sector', figsize = (10,8), alpha = 0.5)\n",
    "XLU['Returns'].hist(bins=20, label = 'Utilities Sector', figsize = (10,8), alpha = 0.5)\n",
    "plt.xlabel('Daily Percent Change')\n",
    "plt.title('Sectors of the Stock Market')\n",
    "plt.legend()\n",
    "plt.show();\n",
    "\n",
    "# simliar method for kernal density plot\n",
    "XLY['Returns'].plot(kind = 'kde', label = 'Consumer Cyclical', figsize = (10,8), alpha = 0.5)\n",
    "XLV['Returns'].plot(kind = 'kde', label = 'Healthcare', figsize = (10,8), alpha = 0.5)\n",
    "XTL['Returns'].plot(kind = 'kde', label = 'Communications', figsize = (10,8), alpha = 0.5)\n",
    "XLU['Returns'].plot(kind = 'kde', label = 'Utilities', figsize = (10,8), alpha = 0.5)\n",
    "plt.xlabel('Daily Percent Change')\n",
    "plt.title('Sectors of the Stock Market')\n",
    "plt.legend()\n",
    "plt.show();"
   ]
  },
  {
   "cell_type": "markdown",
   "metadata": {},
   "source": [
    "### Number of stock tweets per day\n",
    "> Next, we were interested in the number of tweets any given stock gets in one day.  Our set is rather limited, and the most popular symbol-date pairings are shown below.  "
   ]
  },
  {
   "cell_type": "code",
   "execution_count": 37,
   "metadata": {},
   "outputs": [
    {
     "name": "stdout",
     "output_type": "stream",
     "text": [
      "symbols  date      \n",
      "MHK      2018-07-11    33\n",
      "IP       2018-07-10    33\n",
      "ABC      2018-07-12    30\n",
      "DLPH     2018-07-09    29\n",
      "NBL      2018-07-12    29\n",
      "Name: text, dtype: int64\n"
     ]
    }
   ],
   "source": [
    "b = StockSentimentDF.groupby(['symbols', 'date']).count()\n",
    "b = b.sort_values(\"text\", ascending = False).head() # top 5 most commonly tweeted stocks on any given day\n",
    "selection = b['text']\n",
    "print(selection) # print the 5 most popular symbol-date pairings"
   ]
  },
  {
   "cell_type": "markdown",
   "metadata": {},
   "source": [
    "### Plotting Price Percent Change vs. Average Sentiment\n",
    "\n",
    "> Here, we take the average sentiment from Twitter regarding a particular stock on a particular date, and plot it against the percent change on that day.  We expect to see a positive correlation between the two because if a stock performs well on a given day, we expect general optimism throughout Tweets on that day. "
   ]
  },
  {
   "cell_type": "code",
   "execution_count": 38,
   "metadata": {},
   "outputs": [
    {
     "name": "stdout",
     "output_type": "stream",
     "text": [
      "Correlation:  -0.007066127090598155\n"
     ]
    },
    {
     "data": {
      "image/png": "[encoded data removed]",
      "text/plain": [
       "<Figure size 432x288 with 1 Axes>"
      ]
     },
     "metadata": {
      "needs_background": "light"
     },
     "output_type": "display_data"
    }
   ],
   "source": [
    "m = StockSentimentDF.groupby(['symbols', 'date']).mean()\n",
    "t = StockSentimentDF.merge(m, on=[\"symbols\", \"perc_change\"])\n",
    "t.plot.scatter(x=\"perc_change\", y=\"sentiment_y\")\n",
    "print(\"Correlation: \", t[\"perc_change\"].corr(t[\"sentiment_y\"]))"
   ]
  },
  {
   "cell_type": "markdown",
   "metadata": {},
   "source": [
    "### Plotting Next-Day Price Percent Change vs. Average Sentiment\n",
    "> This is similar to the plot above.  However, instead of looking at the price percent change of the day of the tweet, we are now looking at the price percent change of the the next day.  In essence, a positive correlation means that optimistic tweets might have optimistic effects on a stock on the following day.  "
   ]
  },
  {
   "cell_type": "code",
   "execution_count": 39,
   "metadata": {},
   "outputs": [
    {
     "name": "stdout",
     "output_type": "stream",
     "text": [
      "Correlation:  0.0391721642623727\n"
     ]
    },
    {
     "data": {
      "image/png": "[encoded data removed]",
      "text/plain": [
       "<Figure size 432x288 with 1 Axes>"
      ]
     },
     "metadata": {
      "needs_background": "light"
     },
     "output_type": "display_data"
    }
   ],
   "source": [
    "m = StockSentimentDF.groupby(['symbols', 'date']).mean()\n",
    "t = StockSentimentDF.merge(m, on=[\"symbols\", \"NextDay_perc_change\"])\n",
    "t.plot.scatter(x=\"NextDay_perc_change\", y=\"sentiment_y\")\n",
    "print(\"Correlation: \", t[\"NextDay_perc_change\"].corr(t[\"sentiment_y\"]))"
   ]
  },
  {
   "cell_type": "markdown",
   "metadata": {},
   "source": [
    "## Overall Market Sentiment vs Bitcoin Sentiment\n",
    "We also wanted to check to see if Twitter sentiment could gauge whether Bitcoin or the overall market (we'll use the S&P500 to measure this) is more likely to succeed. We first create two bar plots to compare the Twitter's bitcoin sentiment and the Twitter's market sentiment (Non-cryptocurrencies)."
   ]
  },
  {
   "cell_type": "code",
   "execution_count": 44,
   "metadata": {},
   "outputs": [
    {
     "data": {
      "image/png": "[encoded data removed]",
      "text/plain": [
       "<Figure size 432x288 with 1 Axes>"
      ]
     },
     "metadata": {
      "needs_background": "light"
     },
     "output_type": "display_data"
    }
   ],
   "source": [
    "# read the data from csv files\n",
    "StockDF = pd.read_csv('TwitterStockData.csv')\n",
    "SentimentDF = pd.read_csv('tweet_sentiment.csv')\n",
    "                          \n",
    "# merge the two data frames (tweet info and tweet sentiment) - inner join based on index\n",
    "StockSentimentDF = StockDF.merge(SentimentDF, how='inner', left_index = True, right_index=True)\n",
    "\n",
    "# create a bar graph displaying the number of neutral, positive and negative BTC tweets \n",
    "colors = ['grey','g','r']\n",
    "StockSentimentDF[StockSentimentDF.symbols == 'BTC'].sentiment.value_counts().plot.bar(color = colors, title = \"Bitcoin Tweet Sentiment\");"
   ]
  },
  {
   "cell_type": "code",
   "execution_count": 45,
   "metadata": {},
   "outputs": [
    {
     "data": {
      "image/png": "[encoded data removed]",
      "text/plain": [
       "<Figure size 432x288 with 1 Axes>"
      ]
     },
     "metadata": {
      "needs_background": "light"
     },
     "output_type": "display_data"
    }
   ],
   "source": [
    "# create a bar graph displaying the number of neutral, positive and negative non-BTC tweets (Overall Market)\n",
    "StockSentimentDF[StockSentimentDF.symbols != 'BTC'].sentiment.value_counts().plot.bar(color = colors, title = \"Overall Market Tweet Sentiment\");"
   ]
  },
  {
   "cell_type": "markdown",
   "metadata": {},
   "source": []
  },
  {
   "cell_type": "code",
   "execution_count": null,
   "metadata": {},
   "outputs": [],
   "source": [
    "# calculate daily percent change in new column 'returns'\n",
    "SPY500['returns'] = SPY500['Close'].pct_change(1)\n",
    "BTC['returns'] = BTC['Close'].pct_change(1)\n",
    "\n",
    "# plot the daily returns for BTC and SPY500\n",
    "SPY500['returns'].plot(kind = 'line', title = \"Daily Returns BTC vs S&P500\", label = 'SPY500', figsize = (15,6))\n",
    "BTC['returns'].plot(kind = 'line', title = \"Daily Returns BTC vs S&P500\", label = 'BTC-USD', figsize = (15,6))\n",
    "plt.legend()\n",
    "plt.show()"
   ]
  },
  {
   "cell_type": "code",
   "execution_count": null,
   "metadata": {},
   "outputs": [],
   "source": [
    "# calculate cumulative returns in a new column ''daily_cumulative_return'\n",
    "SPY500['daily_cumulative_return'] = ( 1 + SPY500['returns'] ).cumprod()\n",
    "BTC['daily_cumulative_return'] = ( 1 + BTC['returns'] ).cumprod()\n",
    "\n",
    "# plot the cumulative returns for BTC and SPY500\n",
    "SPY500['daily_cumulative_return'].plot(label='SPY500',figsize= (16,8))\n",
    "BTC['daily_cumulative_return'].plot(label = 'BTC-USD', title = \"Cumulative Returns BTC vs S&P500\")\n",
    "plt.legend();\n",
    "plt.show()\n"
   ]
  }
 ],
 "metadata": {
  "kernelspec": {
   "display_name": "Python 3",
   "language": "python",
   "name": "python3"
  },
  "language_info": {
   "codemirror_mode": {
    "name": "ipython",
    "version": 3
   },
   "file_extension": ".py",
   "mimetype": "text/x-python",
   "name": "python",
   "nbconvert_exporter": "python",
   "pygments_lexer": "ipython3",
   "version": "3.7.6"
  }
 },
 "nbformat": 4,
 "nbformat_minor": 4
}
